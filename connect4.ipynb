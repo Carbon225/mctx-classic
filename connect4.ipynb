{
 "cells": [
  {
   "cell_type": "code",
   "execution_count": 1,
   "metadata": {},
   "outputs": [],
   "source": [
    "import jax\n",
    "import jax.numpy as jnp\n",
    "import chex\n",
    "import mctx\n",
    "from rich import print\n",
    "import matplotlib.pyplot as plt\n",
    "import functools"
   ]
  },
  {
   "cell_type": "code",
   "execution_count": 2,
   "metadata": {},
   "outputs": [],
   "source": [
    "Board = chex.Array\n",
    "Action = chex.Array\n",
    "Player = chex.Array\n",
    "Reward = chex.Array\n",
    "Done = chex.Array"
   ]
  },
  {
   "cell_type": "code",
   "execution_count": 3,
   "metadata": {},
   "outputs": [],
   "source": [
    "@chex.dataclass\n",
    "class Env:\n",
    "    board: Board\n",
    "    player: Player\n",
    "    done: Done\n",
    "    reward: Reward"
   ]
  },
  {
   "cell_type": "code",
   "execution_count": 4,
   "metadata": {},
   "outputs": [],
   "source": [
    "BOARD_STRING = \"\"\"\n",
    " ? | ? | ? | ? | ? | ? | ?\n",
    "---|---|---|---|---|---|---\n",
    " ? | ? | ? | ? | ? | ? | ?\n",
    "---|---|---|---|---|---|---\n",
    " ? | ? | ? | ? | ? | ? | ?\n",
    "---|---|---|---|---|---|---\n",
    " ? | ? | ? | ? | ? | ? | ?\n",
    "---|---|---|---|---|---|---\n",
    " ? | ? | ? | ? | ? | ? | ?\n",
    "---|---|---|---|---|---|---\n",
    " ? | ? | ? | ? | ? | ? | ?\n",
    "---|---|---|---|---|---|---\n",
    " 1   2   3   4   5   6   7\n",
    "\"\"\"\n",
    "\n",
    "def print_board(board: Board):\n",
    "    board_str = BOARD_STRING\n",
    "    for i in reversed(range(board.shape[0])):\n",
    "        for j in range(board.shape[1]):\n",
    "            board_str = board_str.replace('?', '[green]X[/green]' if board[i, j] == 1 else '[red]O[/red]' if board[i, j] == -1 else ' ', 1)\n",
    "    print(board_str)"
   ]
  },
  {
   "cell_type": "code",
   "execution_count": 5,
   "metadata": {},
   "outputs": [],
   "source": [
    "def env_reset(_):\n",
    "    return Env(\n",
    "        board=jnp.zeros((6, 7), dtype=jnp.int8),\n",
    "        player=jnp.int8(1),\n",
    "        done=jnp.bool_(False),\n",
    "        reward=jnp.int8(0),\n",
    "    )"
   ]
  },
  {
   "cell_type": "code",
   "execution_count": 6,
   "metadata": {},
   "outputs": [],
   "source": [
    "def horizontals(board: Board) -> chex.Array:\n",
    "    return jnp.stack([\n",
    "        board[i, j:j+4]\n",
    "        for i in range(board.shape[0])\n",
    "        for j in range(board.shape[1] - 3)\n",
    "    ])\n",
    "\n",
    "def verticals(board: Board) -> chex.Array:\n",
    "    return jnp.stack([\n",
    "        board[i:i+4, j]\n",
    "        for i in range(board.shape[0] - 3)\n",
    "        for j in range(board.shape[1])\n",
    "    ])\n",
    "\n",
    "def diagonals(board: Board) -> chex.Array:\n",
    "    return jnp.stack([\n",
    "        jnp.diag(board[i:i+4, j:j+4])\n",
    "        for i in range(board.shape[0] - 3)\n",
    "        for j in range(board.shape[1] - 3)\n",
    "    ])\n",
    "\n",
    "def antidiagonals(board: Board) -> chex.Array:\n",
    "    return jnp.stack([\n",
    "        jnp.diag(board[i:i+4, j:j+4][::-1])\n",
    "        for i in range(board.shape[0] - 3)\n",
    "        for j in range(board.shape[1] - 3)\n",
    "    ])\n",
    "\n",
    "def get_winner(board: Board) -> Player:\n",
    "    all_lines = jnp.concatenate((\n",
    "        horizontals(board),\n",
    "        verticals(board),\n",
    "        diagonals(board),\n",
    "        antidiagonals(board),\n",
    "    ))\n",
    "    x_won = jnp.any(jnp.all(all_lines == 1, axis=1)).astype(jnp.int8)\n",
    "    o_won = jnp.any(jnp.all(all_lines == -1, axis=1)).astype(jnp.int8)\n",
    "    return x_won - o_won"
   ]
  },
  {
   "cell_type": "code",
   "execution_count": 7,
   "metadata": {},
   "outputs": [],
   "source": [
    "def env_step(env: Env, action: Action) -> tuple[Env, Reward, Done]:\n",
    "    col = action\n",
    "    row = jnp.argmax(env.board[:, col] == 0)\n",
    "    invalid_move = env.board[row, col] != 0\n",
    "    board = env.board.at[row, col].set(jnp.where(env.done | invalid_move, env.board[row, col], env.player))\n",
    "    reward = jnp.where(env.done, 0, jnp.where(invalid_move, -1, get_winner(board) * env.player)).astype(jnp.int8)\n",
    "    done = env.done | reward != 0 | invalid_move | jnp.all(board[-1] != 0)\n",
    "    env = Env(\n",
    "        board=board,\n",
    "        player=jnp.where(done, env.player, -env.player),\n",
    "        done=done,\n",
    "        reward=reward,\n",
    "    )\n",
    "    return env, reward, done"
   ]
  },
  {
   "cell_type": "code",
   "execution_count": 8,
   "metadata": {},
   "outputs": [],
   "source": [
    "def valid_action_mask(env: Env) -> chex.Array:\n",
    "    return jnp.where(env.done, jnp.array([False] * env.board.shape[1]), env.board[-1] == 0)"
   ]
  },
  {
   "cell_type": "code",
   "execution_count": 9,
   "metadata": {},
   "outputs": [],
   "source": [
    "def winning_action_mask(env: Env, player: Player) -> chex.Array:\n",
    "    env = Env(board=env.board, player=player, done=env.done, reward=env.reward)\n",
    "    env, reward, done = jax.vmap(env_step, (None, 0))(env, jnp.arange(7, dtype=jnp.int8))\n",
    "    return reward == 1"
   ]
  },
  {
   "cell_type": "code",
   "execution_count": 10,
   "metadata": {},
   "outputs": [],
   "source": [
    "def policy_function(env: Env) -> chex.Array:\n",
    "    return sum((\n",
    "        valid_action_mask(env).astype(jnp.float32) * 100,\n",
    "        winning_action_mask(env, -env.player).astype(jnp.float32) * 200,\n",
    "        winning_action_mask(env, env.player).astype(jnp.float32) * 300,\n",
    "    ))"
   ]
  },
  {
   "cell_type": "code",
   "execution_count": 11,
   "metadata": {},
   "outputs": [],
   "source": [
    "def rollout(env: Env, rng_key: chex.PRNGKey) -> Reward:\n",
    "    def cond(a):\n",
    "        env, key = a\n",
    "        return ~env.done\n",
    "    def step(a):\n",
    "        env, key = a\n",
    "        key, subkey = jax.random.split(key)\n",
    "        action = jax.random.categorical(subkey, policy_function(env))\n",
    "        env, reward, done = env_step(env, action)\n",
    "        return env, key\n",
    "    leaf, key = jax.lax.while_loop(cond, step, (env, rng_key))\n",
    "    return leaf.reward * leaf.player * env.player"
   ]
  },
  {
   "cell_type": "code",
   "execution_count": 12,
   "metadata": {},
   "outputs": [],
   "source": [
    "def value_function(env: Env, rng_key: chex.PRNGKey) -> chex.Array:\n",
    "    return rollout(env, rng_key).astype(jnp.float32)"
   ]
  },
  {
   "cell_type": "code",
   "execution_count": 13,
   "metadata": {},
   "outputs": [],
   "source": [
    "def root_fn(env: Env, rng_key: chex.PRNGKey) -> mctx.RootFnOutput:\n",
    "    return mctx.RootFnOutput(\n",
    "        prior_logits=policy_function(env),\n",
    "        value=value_function(env, rng_key),\n",
    "        embedding=env,\n",
    "    )"
   ]
  },
  {
   "cell_type": "code",
   "execution_count": 14,
   "metadata": {},
   "outputs": [],
   "source": [
    "def recurrent_fn(params, rng_key, action, embedding):\n",
    "    env = embedding\n",
    "    env, reward, done = env_step(env, action)\n",
    "    recurrent_fn_output = mctx.RecurrentFnOutput(\n",
    "        reward=reward,\n",
    "        discount=jnp.where(done, 0, -1).astype(jnp.float32),\n",
    "        prior_logits=policy_function(env),\n",
    "        value=jnp.where(done, 0, value_function(env, rng_key)).astype(jnp.float32),\n",
    "    )\n",
    "    return recurrent_fn_output, env"
   ]
  },
  {
   "cell_type": "code",
   "execution_count": 15,
   "metadata": {},
   "outputs": [],
   "source": [
    "@functools.partial(jax.jit, static_argnums=(2,))\n",
    "def run_mcts(rng_key: chex.PRNGKey, env: Env, num_simulations: int) -> chex.Array:\n",
    "    batch_size = 1\n",
    "    key1, key2 = jax.random.split(rng_key)\n",
    "    policy_output = mctx.muzero_policy(\n",
    "        params=None,\n",
    "        rng_key=key1,\n",
    "        root=jax.vmap(root_fn, (None, 0))(env, jax.random.split(key2, batch_size)),\n",
    "        recurrent_fn=jax.vmap(recurrent_fn, (None, None, 0, 0)),\n",
    "        num_simulations=num_simulations,\n",
    "        max_depth=42,\n",
    "        qtransform=functools.partial(mctx.qtransform_by_min_max, min_value=-1, max_value=1),\n",
    "        dirichlet_fraction=0.0,\n",
    "    )\n",
    "    return policy_output"
   ]
  },
  {
   "cell_type": "code",
   "execution_count": 16,
   "metadata": {},
   "outputs": [
    {
     "data": {
      "text/plain": [
       "Array([[0.016, 0.097, 0.189, 0.436, 0.177, 0.048, 0.037]], dtype=float32)"
      ]
     },
     "execution_count": 16,
     "metadata": {},
     "output_type": "execute_result"
    }
   ],
   "source": [
    "env = env_reset(0)\n",
    "env, reward, done = env_step(env, 3)\n",
    "env, reward, done = env_step(env, 3)\n",
    "policy_output = run_mcts(jax.random.PRNGKey(0), env, 1000)\n",
    "policy_output.action_weights"
   ]
  },
  {
   "cell_type": "code",
   "execution_count": 17,
   "metadata": {},
   "outputs": [
    {
     "data": {
      "image/png": "[encoded data removed]",
      "text/plain": [
       "<Figure size 640x480 with 1 Axes>"
      ]
     },
     "metadata": {},
     "output_type": "display_data"
    }
   ],
   "source": [
    "plt.bar(jnp.arange(7), policy_output.action_weights.mean(axis=0))\n",
    "plt.show()"
   ]
  },
  {
   "cell_type": "code",
   "execution_count": 18,
   "metadata": {},
   "outputs": [
    {
     "data": {
      "text/html": [
       "<pre style=\"white-space:pre;overflow-x:auto;line-height:normal;font-family:Menlo,'DejaVu Sans Mono',consolas,'Courier New',monospace\">\n",
       "   |   |   |   |   |   |  \n",
       "---|---|---|---|---|---|---\n",
       "   |   |   |   |   |   |  \n",
       "---|---|---|---|---|---|---\n",
       "   |   |   |   |   |   |  \n",
       "---|---|---|---|---|---|---\n",
       "   |   |   |   |   |   |  \n",
       "---|---|---|---|---|---|---\n",
       "   |   |   |   |   |   |  \n",
       "---|---|---|---|---|---|---\n",
       "   |   |   |   |   |   |  \n",
       "---|---|---|---|---|---|---\n",
       " <span style=\"color: #008080; text-decoration-color: #008080; font-weight: bold\">1</span>   <span style=\"color: #008080; text-decoration-color: #008080; font-weight: bold\">2</span>   <span style=\"color: #008080; text-decoration-color: #008080; font-weight: bold\">3</span>   <span style=\"color: #008080; text-decoration-color: #008080; font-weight: bold\">4</span>   <span style=\"color: #008080; text-decoration-color: #008080; font-weight: bold\">5</span>   <span style=\"color: #008080; text-decoration-color: #008080; font-weight: bold\">6</span>   <span style=\"color: #008080; text-decoration-color: #008080; font-weight: bold\">7</span>\n",
       "\n",
       "</pre>\n"
      ],
      "text/plain": [
       "\n",
       "   |   |   |   |   |   |  \n",
       "---|---|---|---|---|---|---\n",
       "   |   |   |   |   |   |  \n",
       "---|---|---|---|---|---|---\n",
       "   |   |   |   |   |   |  \n",
       "---|---|---|---|---|---|---\n",
       "   |   |   |   |   |   |  \n",
       "---|---|---|---|---|---|---\n",
       "   |   |   |   |   |   |  \n",
       "---|---|---|---|---|---|---\n",
       "   |   |   |   |   |   |  \n",
       "---|---|---|---|---|---|---\n",
       " \u001b[1;36m1\u001b[0m   \u001b[1;36m2\u001b[0m   \u001b[1;36m3\u001b[0m   \u001b[1;36m4\u001b[0m   \u001b[1;36m5\u001b[0m   \u001b[1;36m6\u001b[0m   \u001b[1;36m7\u001b[0m\n",
       "\n"
      ]
     },
     "metadata": {},
     "output_type": "display_data"
    },
    {
     "data": {
      "text/html": [
       "<pre style=\"white-space:pre;overflow-x:auto;line-height:normal;font-family:Menlo,'DejaVu Sans Mono',consolas,'Courier New',monospace\">\n",
       "   |   |   |   |   |   |  \n",
       "---|---|---|---|---|---|---\n",
       "   |   |   |   |   |   |  \n",
       "---|---|---|---|---|---|---\n",
       "   |   |   |   |   |   |  \n",
       "---|---|---|---|---|---|---\n",
       "   |   |   |   |   |   |  \n",
       "---|---|---|---|---|---|---\n",
       "   |   |   |   |   |   |  \n",
       "---|---|---|---|---|---|---\n",
       "   |   |   | <span style=\"color: #008000; text-decoration-color: #008000\">X</span> |   |   |  \n",
       "---|---|---|---|---|---|---\n",
       " <span style=\"color: #008080; text-decoration-color: #008080; font-weight: bold\">1</span>   <span style=\"color: #008080; text-decoration-color: #008080; font-weight: bold\">2</span>   <span style=\"color: #008080; text-decoration-color: #008080; font-weight: bold\">3</span>   <span style=\"color: #008080; text-decoration-color: #008080; font-weight: bold\">4</span>   <span style=\"color: #008080; text-decoration-color: #008080; font-weight: bold\">5</span>   <span style=\"color: #008080; text-decoration-color: #008080; font-weight: bold\">6</span>   <span style=\"color: #008080; text-decoration-color: #008080; font-weight: bold\">7</span>\n",
       "\n",
       "</pre>\n"
      ],
      "text/plain": [
       "\n",
       "   |   |   |   |   |   |  \n",
       "---|---|---|---|---|---|---\n",
       "   |   |   |   |   |   |  \n",
       "---|---|---|---|---|---|---\n",
       "   |   |   |   |   |   |  \n",
       "---|---|---|---|---|---|---\n",
       "   |   |   |   |   |   |  \n",
       "---|---|---|---|---|---|---\n",
       "   |   |   |   |   |   |  \n",
       "---|---|---|---|---|---|---\n",
       "   |   |   | \u001b[32mX\u001b[0m |   |   |  \n",
       "---|---|---|---|---|---|---\n",
       " \u001b[1;36m1\u001b[0m   \u001b[1;36m2\u001b[0m   \u001b[1;36m3\u001b[0m   \u001b[1;36m4\u001b[0m   \u001b[1;36m5\u001b[0m   \u001b[1;36m6\u001b[0m   \u001b[1;36m7\u001b[0m\n",
       "\n"
      ]
     },
     "metadata": {},
     "output_type": "display_data"
    },
    {
     "data": {
      "text/html": [
       "<pre style=\"white-space:pre;overflow-x:auto;line-height:normal;font-family:Menlo,'DejaVu Sans Mono',consolas,'Courier New',monospace\">\n",
       "   |   |   |   |   |   |  \n",
       "---|---|---|---|---|---|---\n",
       "   |   |   |   |   |   |  \n",
       "---|---|---|---|---|---|---\n",
       "   |   |   |   |   |   |  \n",
       "---|---|---|---|---|---|---\n",
       "   |   |   |   |   |   |  \n",
       "---|---|---|---|---|---|---\n",
       "   |   |   |   |   |   |  \n",
       "---|---|---|---|---|---|---\n",
       "   |   |   | <span style=\"color: #008000; text-decoration-color: #008000\">X</span> |   | <span style=\"color: #800000; text-decoration-color: #800000\">O</span> |  \n",
       "---|---|---|---|---|---|---\n",
       " <span style=\"color: #008080; text-decoration-color: #008080; font-weight: bold\">1</span>   <span style=\"color: #008080; text-decoration-color: #008080; font-weight: bold\">2</span>   <span style=\"color: #008080; text-decoration-color: #008080; font-weight: bold\">3</span>   <span style=\"color: #008080; text-decoration-color: #008080; font-weight: bold\">4</span>   <span style=\"color: #008080; text-decoration-color: #008080; font-weight: bold\">5</span>   <span style=\"color: #008080; text-decoration-color: #008080; font-weight: bold\">6</span>   <span style=\"color: #008080; text-decoration-color: #008080; font-weight: bold\">7</span>\n",
       "\n",
       "</pre>\n"
      ],
      "text/plain": [
       "\n",
       "   |   |   |   |   |   |  \n",
       "---|---|---|---|---|---|---\n",
       "   |   |   |   |   |   |  \n",
       "---|---|---|---|---|---|---\n",
       "   |   |   |   |   |   |  \n",
       "---|---|---|---|---|---|---\n",
       "   |   |   |   |   |   |  \n",
       "---|---|---|---|---|---|---\n",
       "   |   |   |   |   |   |  \n",
       "---|---|---|---|---|---|---\n",
       "   |   |   | \u001b[32mX\u001b[0m |   | \u001b[31mO\u001b[0m |  \n",
       "---|---|---|---|---|---|---\n",
       " \u001b[1;36m1\u001b[0m   \u001b[1;36m2\u001b[0m   \u001b[1;36m3\u001b[0m   \u001b[1;36m4\u001b[0m   \u001b[1;36m5\u001b[0m   \u001b[1;36m6\u001b[0m   \u001b[1;36m7\u001b[0m\n",
       "\n"
      ]
     },
     "metadata": {},
     "output_type": "display_data"
    },
    {
     "data": {
      "text/html": [
       "<pre style=\"white-space:pre;overflow-x:auto;line-height:normal;font-family:Menlo,'DejaVu Sans Mono',consolas,'Courier New',monospace\">\n",
       "   |   |   |   |   |   |  \n",
       "---|---|---|---|---|---|---\n",
       "   |   |   |   |   |   |  \n",
       "---|---|---|---|---|---|---\n",
       "   |   |   |   |   |   |  \n",
       "---|---|---|---|---|---|---\n",
       "   |   |   |   |   |   |  \n",
       "---|---|---|---|---|---|---\n",
       "   |   |   |   |   |   |  \n",
       "---|---|---|---|---|---|---\n",
       "   | <span style=\"color: #008000; text-decoration-color: #008000\">X</span> |   | <span style=\"color: #008000; text-decoration-color: #008000\">X</span> |   | <span style=\"color: #800000; text-decoration-color: #800000\">O</span> |  \n",
       "---|---|---|---|---|---|---\n",
       " <span style=\"color: #008080; text-decoration-color: #008080; font-weight: bold\">1</span>   <span style=\"color: #008080; text-decoration-color: #008080; font-weight: bold\">2</span>   <span style=\"color: #008080; text-decoration-color: #008080; font-weight: bold\">3</span>   <span style=\"color: #008080; text-decoration-color: #008080; font-weight: bold\">4</span>   <span style=\"color: #008080; text-decoration-color: #008080; font-weight: bold\">5</span>   <span style=\"color: #008080; text-decoration-color: #008080; font-weight: bold\">6</span>   <span style=\"color: #008080; text-decoration-color: #008080; font-weight: bold\">7</span>\n",
       "\n",
       "</pre>\n"
      ],
      "text/plain": [
       "\n",
       "   |   |   |   |   |   |  \n",
       "---|---|---|---|---|---|---\n",
       "   |   |   |   |   |   |  \n",
       "---|---|---|---|---|---|---\n",
       "   |   |   |   |   |   |  \n",
       "---|---|---|---|---|---|---\n",
       "   |   |   |   |   |   |  \n",
       "---|---|---|---|---|---|---\n",
       "   |   |   |   |   |   |  \n",
       "---|---|---|---|---|---|---\n",
       "   | \u001b[32mX\u001b[0m |   | \u001b[32mX\u001b[0m |   | \u001b[31mO\u001b[0m |  \n",
       "---|---|---|---|---|---|---\n",
       " \u001b[1;36m1\u001b[0m   \u001b[1;36m2\u001b[0m   \u001b[1;36m3\u001b[0m   \u001b[1;36m4\u001b[0m   \u001b[1;36m5\u001b[0m   \u001b[1;36m6\u001b[0m   \u001b[1;36m7\u001b[0m\n",
       "\n"
      ]
     },
     "metadata": {},
     "output_type": "display_data"
    },
    {
     "data": {
      "text/html": [
       "<pre style=\"white-space:pre;overflow-x:auto;line-height:normal;font-family:Menlo,'DejaVu Sans Mono',consolas,'Courier New',monospace\">\n",
       "   |   |   |   |   |   |  \n",
       "---|---|---|---|---|---|---\n",
       "   |   |   |   |   |   |  \n",
       "---|---|---|---|---|---|---\n",
       "   |   |   |   |   |   |  \n",
       "---|---|---|---|---|---|---\n",
       "   |   |   |   |   |   |  \n",
       "---|---|---|---|---|---|---\n",
       "   |   |   |   |   |   |  \n",
       "---|---|---|---|---|---|---\n",
       "   | <span style=\"color: #008000; text-decoration-color: #008000\">X</span> | <span style=\"color: #800000; text-decoration-color: #800000\">O</span> | <span style=\"color: #008000; text-decoration-color: #008000\">X</span> |   | <span style=\"color: #800000; text-decoration-color: #800000\">O</span> |  \n",
       "---|---|---|---|---|---|---\n",
       " <span style=\"color: #008080; text-decoration-color: #008080; font-weight: bold\">1</span>   <span style=\"color: #008080; text-decoration-color: #008080; font-weight: bold\">2</span>   <span style=\"color: #008080; text-decoration-color: #008080; font-weight: bold\">3</span>   <span style=\"color: #008080; text-decoration-color: #008080; font-weight: bold\">4</span>   <span style=\"color: #008080; text-decoration-color: #008080; font-weight: bold\">5</span>   <span style=\"color: #008080; text-decoration-color: #008080; font-weight: bold\">6</span>   <span style=\"color: #008080; text-decoration-color: #008080; font-weight: bold\">7</span>\n",
       "\n",
       "</pre>\n"
      ],
      "text/plain": [
       "\n",
       "   |   |   |   |   |   |  \n",
       "---|---|---|---|---|---|---\n",
       "   |   |   |   |   |   |  \n",
       "---|---|---|---|---|---|---\n",
       "   |   |   |   |   |   |  \n",
       "---|---|---|---|---|---|---\n",
       "   |   |   |   |   |   |  \n",
       "---|---|---|---|---|---|---\n",
       "   |   |   |   |   |   |  \n",
       "---|---|---|---|---|---|---\n",
       "   | \u001b[32mX\u001b[0m | \u001b[31mO\u001b[0m | \u001b[32mX\u001b[0m |   | \u001b[31mO\u001b[0m |  \n",
       "---|---|---|---|---|---|---\n",
       " \u001b[1;36m1\u001b[0m   \u001b[1;36m2\u001b[0m   \u001b[1;36m3\u001b[0m   \u001b[1;36m4\u001b[0m   \u001b[1;36m5\u001b[0m   \u001b[1;36m6\u001b[0m   \u001b[1;36m7\u001b[0m\n",
       "\n"
      ]
     },
     "metadata": {},
     "output_type": "display_data"
    },
    {
     "data": {
      "text/html": [
       "<pre style=\"white-space:pre;overflow-x:auto;line-height:normal;font-family:Menlo,'DejaVu Sans Mono',consolas,'Courier New',monospace\">\n",
       "   |   |   |   |   |   |  \n",
       "---|---|---|---|---|---|---\n",
       "   |   |   |   |   |   |  \n",
       "---|---|---|---|---|---|---\n",
       "   |   |   |   |   |   |  \n",
       "---|---|---|---|---|---|---\n",
       "   |   |   |   |   |   |  \n",
       "---|---|---|---|---|---|---\n",
       "   |   | <span style=\"color: #008000; text-decoration-color: #008000\">X</span> |   |   |   |  \n",
       "---|---|---|---|---|---|---\n",
       "   | <span style=\"color: #008000; text-decoration-color: #008000\">X</span> | <span style=\"color: #800000; text-decoration-color: #800000\">O</span> | <span style=\"color: #008000; text-decoration-color: #008000\">X</span> |   | <span style=\"color: #800000; text-decoration-color: #800000\">O</span> |  \n",
       "---|---|---|---|---|---|---\n",
       " <span style=\"color: #008080; text-decoration-color: #008080; font-weight: bold\">1</span>   <span style=\"color: #008080; text-decoration-color: #008080; font-weight: bold\">2</span>   <span style=\"color: #008080; text-decoration-color: #008080; font-weight: bold\">3</span>   <span style=\"color: #008080; text-decoration-color: #008080; font-weight: bold\">4</span>   <span style=\"color: #008080; text-decoration-color: #008080; font-weight: bold\">5</span>   <span style=\"color: #008080; text-decoration-color: #008080; font-weight: bold\">6</span>   <span style=\"color: #008080; text-decoration-color: #008080; font-weight: bold\">7</span>\n",
       "\n",
       "</pre>\n"
      ],
      "text/plain": [
       "\n",
       "   |   |   |   |   |   |  \n",
       "---|---|---|---|---|---|---\n",
       "   |   |   |   |   |   |  \n",
       "---|---|---|---|---|---|---\n",
       "   |   |   |   |   |   |  \n",
       "---|---|---|---|---|---|---\n",
       "   |   |   |   |   |   |  \n",
       "---|---|---|---|---|---|---\n",
       "   |   | \u001b[32mX\u001b[0m |   |   |   |  \n",
       "---|---|---|---|---|---|---\n",
       "   | \u001b[32mX\u001b[0m | \u001b[31mO\u001b[0m | \u001b[32mX\u001b[0m |   | \u001b[31mO\u001b[0m |  \n",
       "---|---|---|---|---|---|---\n",
       " \u001b[1;36m1\u001b[0m   \u001b[1;36m2\u001b[0m   \u001b[1;36m3\u001b[0m   \u001b[1;36m4\u001b[0m   \u001b[1;36m5\u001b[0m   \u001b[1;36m6\u001b[0m   \u001b[1;36m7\u001b[0m\n",
       "\n"
      ]
     },
     "metadata": {},
     "output_type": "display_data"
    },
    {
     "data": {
      "text/html": [
       "<pre style=\"white-space:pre;overflow-x:auto;line-height:normal;font-family:Menlo,'DejaVu Sans Mono',consolas,'Courier New',monospace\">\n",
       "   |   |   |   |   |   |  \n",
       "---|---|---|---|---|---|---\n",
       "   |   |   |   |   |   |  \n",
       "---|---|---|---|---|---|---\n",
       "   |   |   |   |   |   |  \n",
       "---|---|---|---|---|---|---\n",
       "   |   | <span style=\"color: #800000; text-decoration-color: #800000\">O</span> |   |   |   |  \n",
       "---|---|---|---|---|---|---\n",
       "   |   | <span style=\"color: #008000; text-decoration-color: #008000\">X</span> |   |   |   |  \n",
       "---|---|---|---|---|---|---\n",
       "   | <span style=\"color: #008000; text-decoration-color: #008000\">X</span> | <span style=\"color: #800000; text-decoration-color: #800000\">O</span> | <span style=\"color: #008000; text-decoration-color: #008000\">X</span> |   | <span style=\"color: #800000; text-decoration-color: #800000\">O</span> |  \n",
       "---|---|---|---|---|---|---\n",
       " <span style=\"color: #008080; text-decoration-color: #008080; font-weight: bold\">1</span>   <span style=\"color: #008080; text-decoration-color: #008080; font-weight: bold\">2</span>   <span style=\"color: #008080; text-decoration-color: #008080; font-weight: bold\">3</span>   <span style=\"color: #008080; text-decoration-color: #008080; font-weight: bold\">4</span>   <span style=\"color: #008080; text-decoration-color: #008080; font-weight: bold\">5</span>   <span style=\"color: #008080; text-decoration-color: #008080; font-weight: bold\">6</span>   <span style=\"color: #008080; text-decoration-color: #008080; font-weight: bold\">7</span>\n",
       "\n",
       "</pre>\n"
      ],
      "text/plain": [
       "\n",
       "   |   |   |   |   |   |  \n",
       "---|---|---|---|---|---|---\n",
       "   |   |   |   |   |   |  \n",
       "---|---|---|---|---|---|---\n",
       "   |   |   |   |   |   |  \n",
       "---|---|---|---|---|---|---\n",
       "   |   | \u001b[31mO\u001b[0m |   |   |   |  \n",
       "---|---|---|---|---|---|---\n",
       "   |   | \u001b[32mX\u001b[0m |   |   |   |  \n",
       "---|---|---|---|---|---|---\n",
       "   | \u001b[32mX\u001b[0m | \u001b[31mO\u001b[0m | \u001b[32mX\u001b[0m |   | \u001b[31mO\u001b[0m |  \n",
       "---|---|---|---|---|---|---\n",
       " \u001b[1;36m1\u001b[0m   \u001b[1;36m2\u001b[0m   \u001b[1;36m3\u001b[0m   \u001b[1;36m4\u001b[0m   \u001b[1;36m5\u001b[0m   \u001b[1;36m6\u001b[0m   \u001b[1;36m7\u001b[0m\n",
       "\n"
      ]
     },
     "metadata": {},
     "output_type": "display_data"
    },
    {
     "data": {
      "text/html": [
       "<pre style=\"white-space:pre;overflow-x:auto;line-height:normal;font-family:Menlo,'DejaVu Sans Mono',consolas,'Courier New',monospace\">\n",
       "   |   |   |   |   |   |  \n",
       "---|---|---|---|---|---|---\n",
       "   |   |   |   |   |   |  \n",
       "---|---|---|---|---|---|---\n",
       "   |   |   |   |   |   |  \n",
       "---|---|---|---|---|---|---\n",
       "   |   | <span style=\"color: #800000; text-decoration-color: #800000\">O</span> |   |   |   |  \n",
       "---|---|---|---|---|---|---\n",
       "   |   | <span style=\"color: #008000; text-decoration-color: #008000\">X</span> | <span style=\"color: #008000; text-decoration-color: #008000\">X</span> |   |   |  \n",
       "---|---|---|---|---|---|---\n",
       "   | <span style=\"color: #008000; text-decoration-color: #008000\">X</span> | <span style=\"color: #800000; text-decoration-color: #800000\">O</span> | <span style=\"color: #008000; text-decoration-color: #008000\">X</span> |   | <span style=\"color: #800000; text-decoration-color: #800000\">O</span> |  \n",
       "---|---|---|---|---|---|---\n",
       " <span style=\"color: #008080; text-decoration-color: #008080; font-weight: bold\">1</span>   <span style=\"color: #008080; text-decoration-color: #008080; font-weight: bold\">2</span>   <span style=\"color: #008080; text-decoration-color: #008080; font-weight: bold\">3</span>   <span style=\"color: #008080; text-decoration-color: #008080; font-weight: bold\">4</span>   <span style=\"color: #008080; text-decoration-color: #008080; font-weight: bold\">5</span>   <span style=\"color: #008080; text-decoration-color: #008080; font-weight: bold\">6</span>   <span style=\"color: #008080; text-decoration-color: #008080; font-weight: bold\">7</span>\n",
       "\n",
       "</pre>\n"
      ],
      "text/plain": [
       "\n",
       "   |   |   |   |   |   |  \n",
       "---|---|---|---|---|---|---\n",
       "   |   |   |   |   |   |  \n",
       "---|---|---|---|---|---|---\n",
       "   |   |   |   |   |   |  \n",
       "---|---|---|---|---|---|---\n",
       "   |   | \u001b[31mO\u001b[0m |   |   |   |  \n",
       "---|---|---|---|---|---|---\n",
       "   |   | \u001b[32mX\u001b[0m | \u001b[32mX\u001b[0m |   |   |  \n",
       "---|---|---|---|---|---|---\n",
       "   | \u001b[32mX\u001b[0m | \u001b[31mO\u001b[0m | \u001b[32mX\u001b[0m |   | \u001b[31mO\u001b[0m |  \n",
       "---|---|---|---|---|---|---\n",
       " \u001b[1;36m1\u001b[0m   \u001b[1;36m2\u001b[0m   \u001b[1;36m3\u001b[0m   \u001b[1;36m4\u001b[0m   \u001b[1;36m5\u001b[0m   \u001b[1;36m6\u001b[0m   \u001b[1;36m7\u001b[0m\n",
       "\n"
      ]
     },
     "metadata": {},
     "output_type": "display_data"
    },
    {
     "data": {
      "text/html": [
       "<pre style=\"white-space:pre;overflow-x:auto;line-height:normal;font-family:Menlo,'DejaVu Sans Mono',consolas,'Courier New',monospace\">\n",
       "   |   |   |   |   |   |  \n",
       "---|---|---|---|---|---|---\n",
       "   |   |   |   |   |   |  \n",
       "---|---|---|---|---|---|---\n",
       "   |   |   |   |   |   |  \n",
       "---|---|---|---|---|---|---\n",
       "   |   | <span style=\"color: #800000; text-decoration-color: #800000\">O</span> |   |   |   |  \n",
       "---|---|---|---|---|---|---\n",
       "   | <span style=\"color: #800000; text-decoration-color: #800000\">O</span> | <span style=\"color: #008000; text-decoration-color: #008000\">X</span> | <span style=\"color: #008000; text-decoration-color: #008000\">X</span> |   |   |  \n",
       "---|---|---|---|---|---|---\n",
       "   | <span style=\"color: #008000; text-decoration-color: #008000\">X</span> | <span style=\"color: #800000; text-decoration-color: #800000\">O</span> | <span style=\"color: #008000; text-decoration-color: #008000\">X</span> |   | <span style=\"color: #800000; text-decoration-color: #800000\">O</span> |  \n",
       "---|---|---|---|---|---|---\n",
       " <span style=\"color: #008080; text-decoration-color: #008080; font-weight: bold\">1</span>   <span style=\"color: #008080; text-decoration-color: #008080; font-weight: bold\">2</span>   <span style=\"color: #008080; text-decoration-color: #008080; font-weight: bold\">3</span>   <span style=\"color: #008080; text-decoration-color: #008080; font-weight: bold\">4</span>   <span style=\"color: #008080; text-decoration-color: #008080; font-weight: bold\">5</span>   <span style=\"color: #008080; text-decoration-color: #008080; font-weight: bold\">6</span>   <span style=\"color: #008080; text-decoration-color: #008080; font-weight: bold\">7</span>\n",
       "\n",
       "</pre>\n"
      ],
      "text/plain": [
       "\n",
       "   |   |   |   |   |   |  \n",
       "---|---|---|---|---|---|---\n",
       "   |   |   |   |   |   |  \n",
       "---|---|---|---|---|---|---\n",
       "   |   |   |   |   |   |  \n",
       "---|---|---|---|---|---|---\n",
       "   |   | \u001b[31mO\u001b[0m |   |   |   |  \n",
       "---|---|---|---|---|---|---\n",
       "   | \u001b[31mO\u001b[0m | \u001b[32mX\u001b[0m | \u001b[32mX\u001b[0m |   |   |  \n",
       "---|---|---|---|---|---|---\n",
       "   | \u001b[32mX\u001b[0m | \u001b[31mO\u001b[0m | \u001b[32mX\u001b[0m |   | \u001b[31mO\u001b[0m |  \n",
       "---|---|---|---|---|---|---\n",
       " \u001b[1;36m1\u001b[0m   \u001b[1;36m2\u001b[0m   \u001b[1;36m3\u001b[0m   \u001b[1;36m4\u001b[0m   \u001b[1;36m5\u001b[0m   \u001b[1;36m6\u001b[0m   \u001b[1;36m7\u001b[0m\n",
       "\n"
      ]
     },
     "metadata": {},
     "output_type": "display_data"
    },
    {
     "data": {
      "text/html": [
       "<pre style=\"white-space:pre;overflow-x:auto;line-height:normal;font-family:Menlo,'DejaVu Sans Mono',consolas,'Courier New',monospace\">\n",
       "   |   |   |   |   |   |  \n",
       "---|---|---|---|---|---|---\n",
       "   |   |   |   |   |   |  \n",
       "---|---|---|---|---|---|---\n",
       "   |   |   |   |   |   |  \n",
       "---|---|---|---|---|---|---\n",
       "   |   | <span style=\"color: #800000; text-decoration-color: #800000\">O</span> | <span style=\"color: #008000; text-decoration-color: #008000\">X</span> |   |   |  \n",
       "---|---|---|---|---|---|---\n",
       "   | <span style=\"color: #800000; text-decoration-color: #800000\">O</span> | <span style=\"color: #008000; text-decoration-color: #008000\">X</span> | <span style=\"color: #008000; text-decoration-color: #008000\">X</span> |   |   |  \n",
       "---|---|---|---|---|---|---\n",
       "   | <span style=\"color: #008000; text-decoration-color: #008000\">X</span> | <span style=\"color: #800000; text-decoration-color: #800000\">O</span> | <span style=\"color: #008000; text-decoration-color: #008000\">X</span> |   | <span style=\"color: #800000; text-decoration-color: #800000\">O</span> |  \n",
       "---|---|---|---|---|---|---\n",
       " <span style=\"color: #008080; text-decoration-color: #008080; font-weight: bold\">1</span>   <span style=\"color: #008080; text-decoration-color: #008080; font-weight: bold\">2</span>   <span style=\"color: #008080; text-decoration-color: #008080; font-weight: bold\">3</span>   <span style=\"color: #008080; text-decoration-color: #008080; font-weight: bold\">4</span>   <span style=\"color: #008080; text-decoration-color: #008080; font-weight: bold\">5</span>   <span style=\"color: #008080; text-decoration-color: #008080; font-weight: bold\">6</span>   <span style=\"color: #008080; text-decoration-color: #008080; font-weight: bold\">7</span>\n",
       "\n",
       "</pre>\n"
      ],
      "text/plain": [
       "\n",
       "   |   |   |   |   |   |  \n",
       "---|---|---|---|---|---|---\n",
       "   |   |   |   |   |   |  \n",
       "---|---|---|---|---|---|---\n",
       "   |   |   |   |   |   |  \n",
       "---|---|---|---|---|---|---\n",
       "   |   | \u001b[31mO\u001b[0m | \u001b[32mX\u001b[0m |   |   |  \n",
       "---|---|---|---|---|---|---\n",
       "   | \u001b[31mO\u001b[0m | \u001b[32mX\u001b[0m | \u001b[32mX\u001b[0m |   |   |  \n",
       "---|---|---|---|---|---|---\n",
       "   | \u001b[32mX\u001b[0m | \u001b[31mO\u001b[0m | \u001b[32mX\u001b[0m |   | \u001b[31mO\u001b[0m |  \n",
       "---|---|---|---|---|---|---\n",
       " \u001b[1;36m1\u001b[0m   \u001b[1;36m2\u001b[0m   \u001b[1;36m3\u001b[0m   \u001b[1;36m4\u001b[0m   \u001b[1;36m5\u001b[0m   \u001b[1;36m6\u001b[0m   \u001b[1;36m7\u001b[0m\n",
       "\n"
      ]
     },
     "metadata": {},
     "output_type": "display_data"
    },
    {
     "data": {
      "text/html": [
       "<pre style=\"white-space:pre;overflow-x:auto;line-height:normal;font-family:Menlo,'DejaVu Sans Mono',consolas,'Courier New',monospace\">\n",
       "   |   |   |   |   |   |  \n",
       "---|---|---|---|---|---|---\n",
       "   |   |   |   |   |   |  \n",
       "---|---|---|---|---|---|---\n",
       "   |   |   | <span style=\"color: #800000; text-decoration-color: #800000\">O</span> |   |   |  \n",
       "---|---|---|---|---|---|---\n",
       "   |   | <span style=\"color: #800000; text-decoration-color: #800000\">O</span> | <span style=\"color: #008000; text-decoration-color: #008000\">X</span> |   |   |  \n",
       "---|---|---|---|---|---|---\n",
       "   | <span style=\"color: #800000; text-decoration-color: #800000\">O</span> | <span style=\"color: #008000; text-decoration-color: #008000\">X</span> | <span style=\"color: #008000; text-decoration-color: #008000\">X</span> |   |   |  \n",
       "---|---|---|---|---|---|---\n",
       "   | <span style=\"color: #008000; text-decoration-color: #008000\">X</span> | <span style=\"color: #800000; text-decoration-color: #800000\">O</span> | <span style=\"color: #008000; text-decoration-color: #008000\">X</span> |   | <span style=\"color: #800000; text-decoration-color: #800000\">O</span> |  \n",
       "---|---|---|---|---|---|---\n",
       " <span style=\"color: #008080; text-decoration-color: #008080; font-weight: bold\">1</span>   <span style=\"color: #008080; text-decoration-color: #008080; font-weight: bold\">2</span>   <span style=\"color: #008080; text-decoration-color: #008080; font-weight: bold\">3</span>   <span style=\"color: #008080; text-decoration-color: #008080; font-weight: bold\">4</span>   <span style=\"color: #008080; text-decoration-color: #008080; font-weight: bold\">5</span>   <span style=\"color: #008080; text-decoration-color: #008080; font-weight: bold\">6</span>   <span style=\"color: #008080; text-decoration-color: #008080; font-weight: bold\">7</span>\n",
       "\n",
       "</pre>\n"
      ],
      "text/plain": [
       "\n",
       "   |   |   |   |   |   |  \n",
       "---|---|---|---|---|---|---\n",
       "   |   |   |   |   |   |  \n",
       "---|---|---|---|---|---|---\n",
       "   |   |   | \u001b[31mO\u001b[0m |   |   |  \n",
       "---|---|---|---|---|---|---\n",
       "   |   | \u001b[31mO\u001b[0m | \u001b[32mX\u001b[0m |   |   |  \n",
       "---|---|---|---|---|---|---\n",
       "   | \u001b[31mO\u001b[0m | \u001b[32mX\u001b[0m | \u001b[32mX\u001b[0m |   |   |  \n",
       "---|---|---|---|---|---|---\n",
       "   | \u001b[32mX\u001b[0m | \u001b[31mO\u001b[0m | \u001b[32mX\u001b[0m |   | \u001b[31mO\u001b[0m |  \n",
       "---|---|---|---|---|---|---\n",
       " \u001b[1;36m1\u001b[0m   \u001b[1;36m2\u001b[0m   \u001b[1;36m3\u001b[0m   \u001b[1;36m4\u001b[0m   \u001b[1;36m5\u001b[0m   \u001b[1;36m6\u001b[0m   \u001b[1;36m7\u001b[0m\n",
       "\n"
      ]
     },
     "metadata": {},
     "output_type": "display_data"
    },
    {
     "data": {
      "text/html": [
       "<pre style=\"white-space:pre;overflow-x:auto;line-height:normal;font-family:Menlo,'DejaVu Sans Mono',consolas,'Courier New',monospace\">\n",
       "   |   |   |   |   |   |  \n",
       "---|---|---|---|---|---|---\n",
       "   |   |   |   |   |   |  \n",
       "---|---|---|---|---|---|---\n",
       "   |   |   | <span style=\"color: #800000; text-decoration-color: #800000\">O</span> |   |   |  \n",
       "---|---|---|---|---|---|---\n",
       "   |   | <span style=\"color: #800000; text-decoration-color: #800000\">O</span> | <span style=\"color: #008000; text-decoration-color: #008000\">X</span> |   |   |  \n",
       "---|---|---|---|---|---|---\n",
       "   | <span style=\"color: #800000; text-decoration-color: #800000\">O</span> | <span style=\"color: #008000; text-decoration-color: #008000\">X</span> | <span style=\"color: #008000; text-decoration-color: #008000\">X</span> |   |   |  \n",
       "---|---|---|---|---|---|---\n",
       " <span style=\"color: #008000; text-decoration-color: #008000\">X</span> | <span style=\"color: #008000; text-decoration-color: #008000\">X</span> | <span style=\"color: #800000; text-decoration-color: #800000\">O</span> | <span style=\"color: #008000; text-decoration-color: #008000\">X</span> |   | <span style=\"color: #800000; text-decoration-color: #800000\">O</span> |  \n",
       "---|---|---|---|---|---|---\n",
       " <span style=\"color: #008080; text-decoration-color: #008080; font-weight: bold\">1</span>   <span style=\"color: #008080; text-decoration-color: #008080; font-weight: bold\">2</span>   <span style=\"color: #008080; text-decoration-color: #008080; font-weight: bold\">3</span>   <span style=\"color: #008080; text-decoration-color: #008080; font-weight: bold\">4</span>   <span style=\"color: #008080; text-decoration-color: #008080; font-weight: bold\">5</span>   <span style=\"color: #008080; text-decoration-color: #008080; font-weight: bold\">6</span>   <span style=\"color: #008080; text-decoration-color: #008080; font-weight: bold\">7</span>\n",
       "\n",
       "</pre>\n"
      ],
      "text/plain": [
       "\n",
       "   |   |   |   |   |   |  \n",
       "---|---|---|---|---|---|---\n",
       "   |   |   |   |   |   |  \n",
       "---|---|---|---|---|---|---\n",
       "   |   |   | \u001b[31mO\u001b[0m |   |   |  \n",
       "---|---|---|---|---|---|---\n",
       "   |   | \u001b[31mO\u001b[0m | \u001b[32mX\u001b[0m |   |   |  \n",
       "---|---|---|---|---|---|---\n",
       "   | \u001b[31mO\u001b[0m | \u001b[32mX\u001b[0m | \u001b[32mX\u001b[0m |   |   |  \n",
       "---|---|---|---|---|---|---\n",
       " \u001b[32mX\u001b[0m | \u001b[32mX\u001b[0m | \u001b[31mO\u001b[0m | \u001b[32mX\u001b[0m |   | \u001b[31mO\u001b[0m |  \n",
       "---|---|---|---|---|---|---\n",
       " \u001b[1;36m1\u001b[0m   \u001b[1;36m2\u001b[0m   \u001b[1;36m3\u001b[0m   \u001b[1;36m4\u001b[0m   \u001b[1;36m5\u001b[0m   \u001b[1;36m6\u001b[0m   \u001b[1;36m7\u001b[0m\n",
       "\n"
      ]
     },
     "metadata": {},
     "output_type": "display_data"
    },
    {
     "data": {
      "text/html": [
       "<pre style=\"white-space:pre;overflow-x:auto;line-height:normal;font-family:Menlo,'DejaVu Sans Mono',consolas,'Courier New',monospace\">\n",
       "   |   |   |   |   |   |  \n",
       "---|---|---|---|---|---|---\n",
       "   |   |   |   |   |   |  \n",
       "---|---|---|---|---|---|---\n",
       "   |   |   | <span style=\"color: #800000; text-decoration-color: #800000\">O</span> |   |   |  \n",
       "---|---|---|---|---|---|---\n",
       "   |   | <span style=\"color: #800000; text-decoration-color: #800000\">O</span> | <span style=\"color: #008000; text-decoration-color: #008000\">X</span> |   |   |  \n",
       "---|---|---|---|---|---|---\n",
       "   | <span style=\"color: #800000; text-decoration-color: #800000\">O</span> | <span style=\"color: #008000; text-decoration-color: #008000\">X</span> | <span style=\"color: #008000; text-decoration-color: #008000\">X</span> |   | <span style=\"color: #800000; text-decoration-color: #800000\">O</span> |  \n",
       "---|---|---|---|---|---|---\n",
       " <span style=\"color: #008000; text-decoration-color: #008000\">X</span> | <span style=\"color: #008000; text-decoration-color: #008000\">X</span> | <span style=\"color: #800000; text-decoration-color: #800000\">O</span> | <span style=\"color: #008000; text-decoration-color: #008000\">X</span> |   | <span style=\"color: #800000; text-decoration-color: #800000\">O</span> |  \n",
       "---|---|---|---|---|---|---\n",
       " <span style=\"color: #008080; text-decoration-color: #008080; font-weight: bold\">1</span>   <span style=\"color: #008080; text-decoration-color: #008080; font-weight: bold\">2</span>   <span style=\"color: #008080; text-decoration-color: #008080; font-weight: bold\">3</span>   <span style=\"color: #008080; text-decoration-color: #008080; font-weight: bold\">4</span>   <span style=\"color: #008080; text-decoration-color: #008080; font-weight: bold\">5</span>   <span style=\"color: #008080; text-decoration-color: #008080; font-weight: bold\">6</span>   <span style=\"color: #008080; text-decoration-color: #008080; font-weight: bold\">7</span>\n",
       "\n",
       "</pre>\n"
      ],
      "text/plain": [
       "\n",
       "   |   |   |   |   |   |  \n",
       "---|---|---|---|---|---|---\n",
       "   |   |   |   |   |   |  \n",
       "---|---|---|---|---|---|---\n",
       "   |   |   | \u001b[31mO\u001b[0m |   |   |  \n",
       "---|---|---|---|---|---|---\n",
       "   |   | \u001b[31mO\u001b[0m | \u001b[32mX\u001b[0m |   |   |  \n",
       "---|---|---|---|---|---|---\n",
       "   | \u001b[31mO\u001b[0m | \u001b[32mX\u001b[0m | \u001b[32mX\u001b[0m |   | \u001b[31mO\u001b[0m |  \n",
       "---|---|---|---|---|---|---\n",
       " \u001b[32mX\u001b[0m | \u001b[32mX\u001b[0m | \u001b[31mO\u001b[0m | \u001b[32mX\u001b[0m |   | \u001b[31mO\u001b[0m |  \n",
       "---|---|---|---|---|---|---\n",
       " \u001b[1;36m1\u001b[0m   \u001b[1;36m2\u001b[0m   \u001b[1;36m3\u001b[0m   \u001b[1;36m4\u001b[0m   \u001b[1;36m5\u001b[0m   \u001b[1;36m6\u001b[0m   \u001b[1;36m7\u001b[0m\n",
       "\n"
      ]
     },
     "metadata": {},
     "output_type": "display_data"
    },
    {
     "data": {
      "text/html": [
       "<pre style=\"white-space:pre;overflow-x:auto;line-height:normal;font-family:Menlo,'DejaVu Sans Mono',consolas,'Courier New',monospace\">\n",
       "   |   |   |   |   |   |  \n",
       "---|---|---|---|---|---|---\n",
       "   |   |   |   |   |   |  \n",
       "---|---|---|---|---|---|---\n",
       "   |   |   | <span style=\"color: #800000; text-decoration-color: #800000\">O</span> |   |   |  \n",
       "---|---|---|---|---|---|---\n",
       "   |   | <span style=\"color: #800000; text-decoration-color: #800000\">O</span> | <span style=\"color: #008000; text-decoration-color: #008000\">X</span> |   |   |  \n",
       "---|---|---|---|---|---|---\n",
       "   | <span style=\"color: #800000; text-decoration-color: #800000\">O</span> | <span style=\"color: #008000; text-decoration-color: #008000\">X</span> | <span style=\"color: #008000; text-decoration-color: #008000\">X</span> |   | <span style=\"color: #800000; text-decoration-color: #800000\">O</span> |  \n",
       "---|---|---|---|---|---|---\n",
       " <span style=\"color: #008000; text-decoration-color: #008000\">X</span> | <span style=\"color: #008000; text-decoration-color: #008000\">X</span> | <span style=\"color: #800000; text-decoration-color: #800000\">O</span> | <span style=\"color: #008000; text-decoration-color: #008000\">X</span> |   | <span style=\"color: #800000; text-decoration-color: #800000\">O</span> | <span style=\"color: #008000; text-decoration-color: #008000\">X</span>\n",
       "---|---|---|---|---|---|---\n",
       " <span style=\"color: #008080; text-decoration-color: #008080; font-weight: bold\">1</span>   <span style=\"color: #008080; text-decoration-color: #008080; font-weight: bold\">2</span>   <span style=\"color: #008080; text-decoration-color: #008080; font-weight: bold\">3</span>   <span style=\"color: #008080; text-decoration-color: #008080; font-weight: bold\">4</span>   <span style=\"color: #008080; text-decoration-color: #008080; font-weight: bold\">5</span>   <span style=\"color: #008080; text-decoration-color: #008080; font-weight: bold\">6</span>   <span style=\"color: #008080; text-decoration-color: #008080; font-weight: bold\">7</span>\n",
       "\n",
       "</pre>\n"
      ],
      "text/plain": [
       "\n",
       "   |   |   |   |   |   |  \n",
       "---|---|---|---|---|---|---\n",
       "   |   |   |   |   |   |  \n",
       "---|---|---|---|---|---|---\n",
       "   |   |   | \u001b[31mO\u001b[0m |   |   |  \n",
       "---|---|---|---|---|---|---\n",
       "   |   | \u001b[31mO\u001b[0m | \u001b[32mX\u001b[0m |   |   |  \n",
       "---|---|---|---|---|---|---\n",
       "   | \u001b[31mO\u001b[0m | \u001b[32mX\u001b[0m | \u001b[32mX\u001b[0m |   | \u001b[31mO\u001b[0m |  \n",
       "---|---|---|---|---|---|---\n",
       " \u001b[32mX\u001b[0m | \u001b[32mX\u001b[0m | \u001b[31mO\u001b[0m | \u001b[32mX\u001b[0m |   | \u001b[31mO\u001b[0m | \u001b[32mX\u001b[0m\n",
       "---|---|---|---|---|---|---\n",
       " \u001b[1;36m1\u001b[0m   \u001b[1;36m2\u001b[0m   \u001b[1;36m3\u001b[0m   \u001b[1;36m4\u001b[0m   \u001b[1;36m5\u001b[0m   \u001b[1;36m6\u001b[0m   \u001b[1;36m7\u001b[0m\n",
       "\n"
      ]
     },
     "metadata": {},
     "output_type": "display_data"
    },
    {
     "data": {
      "text/html": [
       "<pre style=\"white-space:pre;overflow-x:auto;line-height:normal;font-family:Menlo,'DejaVu Sans Mono',consolas,'Courier New',monospace\">\n",
       "   |   |   |   |   |   |  \n",
       "---|---|---|---|---|---|---\n",
       "   |   |   | <span style=\"color: #800000; text-decoration-color: #800000\">O</span> |   |   |  \n",
       "---|---|---|---|---|---|---\n",
       "   |   |   | <span style=\"color: #800000; text-decoration-color: #800000\">O</span> |   |   |  \n",
       "---|---|---|---|---|---|---\n",
       "   |   | <span style=\"color: #800000; text-decoration-color: #800000\">O</span> | <span style=\"color: #008000; text-decoration-color: #008000\">X</span> |   |   |  \n",
       "---|---|---|---|---|---|---\n",
       "   | <span style=\"color: #800000; text-decoration-color: #800000\">O</span> | <span style=\"color: #008000; text-decoration-color: #008000\">X</span> | <span style=\"color: #008000; text-decoration-color: #008000\">X</span> |   | <span style=\"color: #800000; text-decoration-color: #800000\">O</span> |  \n",
       "---|---|---|---|---|---|---\n",
       " <span style=\"color: #008000; text-decoration-color: #008000\">X</span> | <span style=\"color: #008000; text-decoration-color: #008000\">X</span> | <span style=\"color: #800000; text-decoration-color: #800000\">O</span> | <span style=\"color: #008000; text-decoration-color: #008000\">X</span> |   | <span style=\"color: #800000; text-decoration-color: #800000\">O</span> | <span style=\"color: #008000; text-decoration-color: #008000\">X</span>\n",
       "---|---|---|---|---|---|---\n",
       " <span style=\"color: #008080; text-decoration-color: #008080; font-weight: bold\">1</span>   <span style=\"color: #008080; text-decoration-color: #008080; font-weight: bold\">2</span>   <span style=\"color: #008080; text-decoration-color: #008080; font-weight: bold\">3</span>   <span style=\"color: #008080; text-decoration-color: #008080; font-weight: bold\">4</span>   <span style=\"color: #008080; text-decoration-color: #008080; font-weight: bold\">5</span>   <span style=\"color: #008080; text-decoration-color: #008080; font-weight: bold\">6</span>   <span style=\"color: #008080; text-decoration-color: #008080; font-weight: bold\">7</span>\n",
       "\n",
       "</pre>\n"
      ],
      "text/plain": [
       "\n",
       "   |   |   |   |   |   |  \n",
       "---|---|---|---|---|---|---\n",
       "   |   |   | \u001b[31mO\u001b[0m |   |   |  \n",
       "---|---|---|---|---|---|---\n",
       "   |   |   | \u001b[31mO\u001b[0m |   |   |  \n",
       "---|---|---|---|---|---|---\n",
       "   |   | \u001b[31mO\u001b[0m | \u001b[32mX\u001b[0m |   |   |  \n",
       "---|---|---|---|---|---|---\n",
       "   | \u001b[31mO\u001b[0m | \u001b[32mX\u001b[0m | \u001b[32mX\u001b[0m |   | \u001b[31mO\u001b[0m |  \n",
       "---|---|---|---|---|---|---\n",
       " \u001b[32mX\u001b[0m | \u001b[32mX\u001b[0m | \u001b[31mO\u001b[0m | \u001b[32mX\u001b[0m |   | \u001b[31mO\u001b[0m | \u001b[32mX\u001b[0m\n",
       "---|---|---|---|---|---|---\n",
       " \u001b[1;36m1\u001b[0m   \u001b[1;36m2\u001b[0m   \u001b[1;36m3\u001b[0m   \u001b[1;36m4\u001b[0m   \u001b[1;36m5\u001b[0m   \u001b[1;36m6\u001b[0m   \u001b[1;36m7\u001b[0m\n",
       "\n"
      ]
     },
     "metadata": {},
     "output_type": "display_data"
    },
    {
     "data": {
      "text/html": [
       "<pre style=\"white-space:pre;overflow-x:auto;line-height:normal;font-family:Menlo,'DejaVu Sans Mono',consolas,'Courier New',monospace\">\n",
       "   |   |   |   |   |   |  \n",
       "---|---|---|---|---|---|---\n",
       "   |   |   | <span style=\"color: #800000; text-decoration-color: #800000\">O</span> |   |   |  \n",
       "---|---|---|---|---|---|---\n",
       "   |   |   | <span style=\"color: #800000; text-decoration-color: #800000\">O</span> |   |   |  \n",
       "---|---|---|---|---|---|---\n",
       "   | <span style=\"color: #008000; text-decoration-color: #008000\">X</span> | <span style=\"color: #800000; text-decoration-color: #800000\">O</span> | <span style=\"color: #008000; text-decoration-color: #008000\">X</span> |   |   |  \n",
       "---|---|---|---|---|---|---\n",
       "   | <span style=\"color: #800000; text-decoration-color: #800000\">O</span> | <span style=\"color: #008000; text-decoration-color: #008000\">X</span> | <span style=\"color: #008000; text-decoration-color: #008000\">X</span> |   | <span style=\"color: #800000; text-decoration-color: #800000\">O</span> |  \n",
       "---|---|---|---|---|---|---\n",
       " <span style=\"color: #008000; text-decoration-color: #008000\">X</span> | <span style=\"color: #008000; text-decoration-color: #008000\">X</span> | <span style=\"color: #800000; text-decoration-color: #800000\">O</span> | <span style=\"color: #008000; text-decoration-color: #008000\">X</span> |   | <span style=\"color: #800000; text-decoration-color: #800000\">O</span> | <span style=\"color: #008000; text-decoration-color: #008000\">X</span>\n",
       "---|---|---|---|---|---|---\n",
       " <span style=\"color: #008080; text-decoration-color: #008080; font-weight: bold\">1</span>   <span style=\"color: #008080; text-decoration-color: #008080; font-weight: bold\">2</span>   <span style=\"color: #008080; text-decoration-color: #008080; font-weight: bold\">3</span>   <span style=\"color: #008080; text-decoration-color: #008080; font-weight: bold\">4</span>   <span style=\"color: #008080; text-decoration-color: #008080; font-weight: bold\">5</span>   <span style=\"color: #008080; text-decoration-color: #008080; font-weight: bold\">6</span>   <span style=\"color: #008080; text-decoration-color: #008080; font-weight: bold\">7</span>\n",
       "\n",
       "</pre>\n"
      ],
      "text/plain": [
       "\n",
       "   |   |   |   |   |   |  \n",
       "---|---|---|---|---|---|---\n",
       "   |   |   | \u001b[31mO\u001b[0m |   |   |  \n",
       "---|---|---|---|---|---|---\n",
       "   |   |   | \u001b[31mO\u001b[0m |   |   |  \n",
       "---|---|---|---|---|---|---\n",
       "   | \u001b[32mX\u001b[0m | \u001b[31mO\u001b[0m | \u001b[32mX\u001b[0m |   |   |  \n",
       "---|---|---|---|---|---|---\n",
       "   | \u001b[31mO\u001b[0m | \u001b[32mX\u001b[0m | \u001b[32mX\u001b[0m |   | \u001b[31mO\u001b[0m |  \n",
       "---|---|---|---|---|---|---\n",
       " \u001b[32mX\u001b[0m | \u001b[32mX\u001b[0m | \u001b[31mO\u001b[0m | \u001b[32mX\u001b[0m |   | \u001b[31mO\u001b[0m | \u001b[32mX\u001b[0m\n",
       "---|---|---|---|---|---|---\n",
       " \u001b[1;36m1\u001b[0m   \u001b[1;36m2\u001b[0m   \u001b[1;36m3\u001b[0m   \u001b[1;36m4\u001b[0m   \u001b[1;36m5\u001b[0m   \u001b[1;36m6\u001b[0m   \u001b[1;36m7\u001b[0m\n",
       "\n"
      ]
     },
     "metadata": {},
     "output_type": "display_data"
    },
    {
     "data": {
      "text/html": [
       "<pre style=\"white-space:pre;overflow-x:auto;line-height:normal;font-family:Menlo,'DejaVu Sans Mono',consolas,'Courier New',monospace\">\n",
       "   |   |   |   |   |   |  \n",
       "---|---|---|---|---|---|---\n",
       "   |   |   | <span style=\"color: #800000; text-decoration-color: #800000\">O</span> |   |   |  \n",
       "---|---|---|---|---|---|---\n",
       "   |   | <span style=\"color: #800000; text-decoration-color: #800000\">O</span> | <span style=\"color: #800000; text-decoration-color: #800000\">O</span> |   |   |  \n",
       "---|---|---|---|---|---|---\n",
       "   | <span style=\"color: #008000; text-decoration-color: #008000\">X</span> | <span style=\"color: #800000; text-decoration-color: #800000\">O</span> | <span style=\"color: #008000; text-decoration-color: #008000\">X</span> |   |   |  \n",
       "---|---|---|---|---|---|---\n",
       "   | <span style=\"color: #800000; text-decoration-color: #800000\">O</span> | <span style=\"color: #008000; text-decoration-color: #008000\">X</span> | <span style=\"color: #008000; text-decoration-color: #008000\">X</span> |   | <span style=\"color: #800000; text-decoration-color: #800000\">O</span> |  \n",
       "---|---|---|---|---|---|---\n",
       " <span style=\"color: #008000; text-decoration-color: #008000\">X</span> | <span style=\"color: #008000; text-decoration-color: #008000\">X</span> | <span style=\"color: #800000; text-decoration-color: #800000\">O</span> | <span style=\"color: #008000; text-decoration-color: #008000\">X</span> |   | <span style=\"color: #800000; text-decoration-color: #800000\">O</span> | <span style=\"color: #008000; text-decoration-color: #008000\">X</span>\n",
       "---|---|---|---|---|---|---\n",
       " <span style=\"color: #008080; text-decoration-color: #008080; font-weight: bold\">1</span>   <span style=\"color: #008080; text-decoration-color: #008080; font-weight: bold\">2</span>   <span style=\"color: #008080; text-decoration-color: #008080; font-weight: bold\">3</span>   <span style=\"color: #008080; text-decoration-color: #008080; font-weight: bold\">4</span>   <span style=\"color: #008080; text-decoration-color: #008080; font-weight: bold\">5</span>   <span style=\"color: #008080; text-decoration-color: #008080; font-weight: bold\">6</span>   <span style=\"color: #008080; text-decoration-color: #008080; font-weight: bold\">7</span>\n",
       "\n",
       "</pre>\n"
      ],
      "text/plain": [
       "\n",
       "   |   |   |   |   |   |  \n",
       "---|---|---|---|---|---|---\n",
       "   |   |   | \u001b[31mO\u001b[0m |   |   |  \n",
       "---|---|---|---|---|---|---\n",
       "   |   | \u001b[31mO\u001b[0m | \u001b[31mO\u001b[0m |   |   |  \n",
       "---|---|---|---|---|---|---\n",
       "   | \u001b[32mX\u001b[0m | \u001b[31mO\u001b[0m | \u001b[32mX\u001b[0m |   |   |  \n",
       "---|---|---|---|---|---|---\n",
       "   | \u001b[31mO\u001b[0m | \u001b[32mX\u001b[0m | \u001b[32mX\u001b[0m |   | \u001b[31mO\u001b[0m |  \n",
       "---|---|---|---|---|---|---\n",
       " \u001b[32mX\u001b[0m | \u001b[32mX\u001b[0m | \u001b[31mO\u001b[0m | \u001b[32mX\u001b[0m |   | \u001b[31mO\u001b[0m | \u001b[32mX\u001b[0m\n",
       "---|---|---|---|---|---|---\n",
       " \u001b[1;36m1\u001b[0m   \u001b[1;36m2\u001b[0m   \u001b[1;36m3\u001b[0m   \u001b[1;36m4\u001b[0m   \u001b[1;36m5\u001b[0m   \u001b[1;36m6\u001b[0m   \u001b[1;36m7\u001b[0m\n",
       "\n"
      ]
     },
     "metadata": {},
     "output_type": "display_data"
    },
    {
     "data": {
      "text/html": [
       "<pre style=\"white-space:pre;overflow-x:auto;line-height:normal;font-family:Menlo,'DejaVu Sans Mono',consolas,'Courier New',monospace\">\n",
       "   |   |   |   |   |   |  \n",
       "---|---|---|---|---|---|---\n",
       "   |   | <span style=\"color: #008000; text-decoration-color: #008000\">X</span> | <span style=\"color: #800000; text-decoration-color: #800000\">O</span> |   |   |  \n",
       "---|---|---|---|---|---|---\n",
       "   |   | <span style=\"color: #800000; text-decoration-color: #800000\">O</span> | <span style=\"color: #800000; text-decoration-color: #800000\">O</span> |   |   |  \n",
       "---|---|---|---|---|---|---\n",
       "   | <span style=\"color: #008000; text-decoration-color: #008000\">X</span> | <span style=\"color: #800000; text-decoration-color: #800000\">O</span> | <span style=\"color: #008000; text-decoration-color: #008000\">X</span> |   |   |  \n",
       "---|---|---|---|---|---|---\n",
       "   | <span style=\"color: #800000; text-decoration-color: #800000\">O</span> | <span style=\"color: #008000; text-decoration-color: #008000\">X</span> | <span style=\"color: #008000; text-decoration-color: #008000\">X</span> |   | <span style=\"color: #800000; text-decoration-color: #800000\">O</span> |  \n",
       "---|---|---|---|---|---|---\n",
       " <span style=\"color: #008000; text-decoration-color: #008000\">X</span> | <span style=\"color: #008000; text-decoration-color: #008000\">X</span> | <span style=\"color: #800000; text-decoration-color: #800000\">O</span> | <span style=\"color: #008000; text-decoration-color: #008000\">X</span> |   | <span style=\"color: #800000; text-decoration-color: #800000\">O</span> | <span style=\"color: #008000; text-decoration-color: #008000\">X</span>\n",
       "---|---|---|---|---|---|---\n",
       " <span style=\"color: #008080; text-decoration-color: #008080; font-weight: bold\">1</span>   <span style=\"color: #008080; text-decoration-color: #008080; font-weight: bold\">2</span>   <span style=\"color: #008080; text-decoration-color: #008080; font-weight: bold\">3</span>   <span style=\"color: #008080; text-decoration-color: #008080; font-weight: bold\">4</span>   <span style=\"color: #008080; text-decoration-color: #008080; font-weight: bold\">5</span>   <span style=\"color: #008080; text-decoration-color: #008080; font-weight: bold\">6</span>   <span style=\"color: #008080; text-decoration-color: #008080; font-weight: bold\">7</span>\n",
       "\n",
       "</pre>\n"
      ],
      "text/plain": [
       "\n",
       "   |   |   |   |   |   |  \n",
       "---|---|---|---|---|---|---\n",
       "   |   | \u001b[32mX\u001b[0m | \u001b[31mO\u001b[0m |   |   |  \n",
       "---|---|---|---|---|---|---\n",
       "   |   | \u001b[31mO\u001b[0m | \u001b[31mO\u001b[0m |   |   |  \n",
       "---|---|---|---|---|---|---\n",
       "   | \u001b[32mX\u001b[0m | \u001b[31mO\u001b[0m | \u001b[32mX\u001b[0m |   |   |  \n",
       "---|---|---|---|---|---|---\n",
       "   | \u001b[31mO\u001b[0m | \u001b[32mX\u001b[0m | \u001b[32mX\u001b[0m |   | \u001b[31mO\u001b[0m |  \n",
       "---|---|---|---|---|---|---\n",
       " \u001b[32mX\u001b[0m | \u001b[32mX\u001b[0m | \u001b[31mO\u001b[0m | \u001b[32mX\u001b[0m |   | \u001b[31mO\u001b[0m | \u001b[32mX\u001b[0m\n",
       "---|---|---|---|---|---|---\n",
       " \u001b[1;36m1\u001b[0m   \u001b[1;36m2\u001b[0m   \u001b[1;36m3\u001b[0m   \u001b[1;36m4\u001b[0m   \u001b[1;36m5\u001b[0m   \u001b[1;36m6\u001b[0m   \u001b[1;36m7\u001b[0m\n",
       "\n"
      ]
     },
     "metadata": {},
     "output_type": "display_data"
    },
    {
     "data": {
      "text/html": [
       "<pre style=\"white-space:pre;overflow-x:auto;line-height:normal;font-family:Menlo,'DejaVu Sans Mono',consolas,'Courier New',monospace\">\n",
       "   |   |   |   |   |   |  \n",
       "---|---|---|---|---|---|---\n",
       "   |   | <span style=\"color: #008000; text-decoration-color: #008000\">X</span> | <span style=\"color: #800000; text-decoration-color: #800000\">O</span> |   |   |  \n",
       "---|---|---|---|---|---|---\n",
       "   | <span style=\"color: #800000; text-decoration-color: #800000\">O</span> | <span style=\"color: #800000; text-decoration-color: #800000\">O</span> | <span style=\"color: #800000; text-decoration-color: #800000\">O</span> |   |   |  \n",
       "---|---|---|---|---|---|---\n",
       "   | <span style=\"color: #008000; text-decoration-color: #008000\">X</span> | <span style=\"color: #800000; text-decoration-color: #800000\">O</span> | <span style=\"color: #008000; text-decoration-color: #008000\">X</span> |   |   |  \n",
       "---|---|---|---|---|---|---\n",
       "   | <span style=\"color: #800000; text-decoration-color: #800000\">O</span> | <span style=\"color: #008000; text-decoration-color: #008000\">X</span> | <span style=\"color: #008000; text-decoration-color: #008000\">X</span> |   | <span style=\"color: #800000; text-decoration-color: #800000\">O</span> |  \n",
       "---|---|---|---|---|---|---\n",
       " <span style=\"color: #008000; text-decoration-color: #008000\">X</span> | <span style=\"color: #008000; text-decoration-color: #008000\">X</span> | <span style=\"color: #800000; text-decoration-color: #800000\">O</span> | <span style=\"color: #008000; text-decoration-color: #008000\">X</span> |   | <span style=\"color: #800000; text-decoration-color: #800000\">O</span> | <span style=\"color: #008000; text-decoration-color: #008000\">X</span>\n",
       "---|---|---|---|---|---|---\n",
       " <span style=\"color: #008080; text-decoration-color: #008080; font-weight: bold\">1</span>   <span style=\"color: #008080; text-decoration-color: #008080; font-weight: bold\">2</span>   <span style=\"color: #008080; text-decoration-color: #008080; font-weight: bold\">3</span>   <span style=\"color: #008080; text-decoration-color: #008080; font-weight: bold\">4</span>   <span style=\"color: #008080; text-decoration-color: #008080; font-weight: bold\">5</span>   <span style=\"color: #008080; text-decoration-color: #008080; font-weight: bold\">6</span>   <span style=\"color: #008080; text-decoration-color: #008080; font-weight: bold\">7</span>\n",
       "\n",
       "</pre>\n"
      ],
      "text/plain": [
       "\n",
       "   |   |   |   |   |   |  \n",
       "---|---|---|---|---|---|---\n",
       "   |   | \u001b[32mX\u001b[0m | \u001b[31mO\u001b[0m |   |   |  \n",
       "---|---|---|---|---|---|---\n",
       "   | \u001b[31mO\u001b[0m | \u001b[31mO\u001b[0m | \u001b[31mO\u001b[0m |   |   |  \n",
       "---|---|---|---|---|---|---\n",
       "   | \u001b[32mX\u001b[0m | \u001b[31mO\u001b[0m | \u001b[32mX\u001b[0m |   |   |  \n",
       "---|---|---|---|---|---|---\n",
       "   | \u001b[31mO\u001b[0m | \u001b[32mX\u001b[0m | \u001b[32mX\u001b[0m |   | \u001b[31mO\u001b[0m |  \n",
       "---|---|---|---|---|---|---\n",
       " \u001b[32mX\u001b[0m | \u001b[32mX\u001b[0m | \u001b[31mO\u001b[0m | \u001b[32mX\u001b[0m |   | \u001b[31mO\u001b[0m | \u001b[32mX\u001b[0m\n",
       "---|---|---|---|---|---|---\n",
       " \u001b[1;36m1\u001b[0m   \u001b[1;36m2\u001b[0m   \u001b[1;36m3\u001b[0m   \u001b[1;36m4\u001b[0m   \u001b[1;36m5\u001b[0m   \u001b[1;36m6\u001b[0m   \u001b[1;36m7\u001b[0m\n",
       "\n"
      ]
     },
     "metadata": {},
     "output_type": "display_data"
    },
    {
     "data": {
      "text/html": [
       "<pre style=\"white-space:pre;overflow-x:auto;line-height:normal;font-family:Menlo,'DejaVu Sans Mono',consolas,'Courier New',monospace\">\n",
       "   |   |   | <span style=\"color: #008000; text-decoration-color: #008000\">X</span> |   |   |  \n",
       "---|---|---|---|---|---|---\n",
       "   |   | <span style=\"color: #008000; text-decoration-color: #008000\">X</span> | <span style=\"color: #800000; text-decoration-color: #800000\">O</span> |   |   |  \n",
       "---|---|---|---|---|---|---\n",
       "   | <span style=\"color: #800000; text-decoration-color: #800000\">O</span> | <span style=\"color: #800000; text-decoration-color: #800000\">O</span> | <span style=\"color: #800000; text-decoration-color: #800000\">O</span> |   |   |  \n",
       "---|---|---|---|---|---|---\n",
       "   | <span style=\"color: #008000; text-decoration-color: #008000\">X</span> | <span style=\"color: #800000; text-decoration-color: #800000\">O</span> | <span style=\"color: #008000; text-decoration-color: #008000\">X</span> |   |   |  \n",
       "---|---|---|---|---|---|---\n",
       "   | <span style=\"color: #800000; text-decoration-color: #800000\">O</span> | <span style=\"color: #008000; text-decoration-color: #008000\">X</span> | <span style=\"color: #008000; text-decoration-color: #008000\">X</span> |   | <span style=\"color: #800000; text-decoration-color: #800000\">O</span> |  \n",
       "---|---|---|---|---|---|---\n",
       " <span style=\"color: #008000; text-decoration-color: #008000\">X</span> | <span style=\"color: #008000; text-decoration-color: #008000\">X</span> | <span style=\"color: #800000; text-decoration-color: #800000\">O</span> | <span style=\"color: #008000; text-decoration-color: #008000\">X</span> |   | <span style=\"color: #800000; text-decoration-color: #800000\">O</span> | <span style=\"color: #008000; text-decoration-color: #008000\">X</span>\n",
       "---|---|---|---|---|---|---\n",
       " <span style=\"color: #008080; text-decoration-color: #008080; font-weight: bold\">1</span>   <span style=\"color: #008080; text-decoration-color: #008080; font-weight: bold\">2</span>   <span style=\"color: #008080; text-decoration-color: #008080; font-weight: bold\">3</span>   <span style=\"color: #008080; text-decoration-color: #008080; font-weight: bold\">4</span>   <span style=\"color: #008080; text-decoration-color: #008080; font-weight: bold\">5</span>   <span style=\"color: #008080; text-decoration-color: #008080; font-weight: bold\">6</span>   <span style=\"color: #008080; text-decoration-color: #008080; font-weight: bold\">7</span>\n",
       "\n",
       "</pre>\n"
      ],
      "text/plain": [
       "\n",
       "   |   |   | \u001b[32mX\u001b[0m |   |   |  \n",
       "---|---|---|---|---|---|---\n",
       "   |   | \u001b[32mX\u001b[0m | \u001b[31mO\u001b[0m |   |   |  \n",
       "---|---|---|---|---|---|---\n",
       "   | \u001b[31mO\u001b[0m | \u001b[31mO\u001b[0m | \u001b[31mO\u001b[0m |   |   |  \n",
       "---|---|---|---|---|---|---\n",
       "   | \u001b[32mX\u001b[0m | \u001b[31mO\u001b[0m | \u001b[32mX\u001b[0m |   |   |  \n",
       "---|---|---|---|---|---|---\n",
       "   | \u001b[31mO\u001b[0m | \u001b[32mX\u001b[0m | \u001b[32mX\u001b[0m |   | \u001b[31mO\u001b[0m |  \n",
       "---|---|---|---|---|---|---\n",
       " \u001b[32mX\u001b[0m | \u001b[32mX\u001b[0m | \u001b[31mO\u001b[0m | \u001b[32mX\u001b[0m |   | \u001b[31mO\u001b[0m | \u001b[32mX\u001b[0m\n",
       "---|---|---|---|---|---|---\n",
       " \u001b[1;36m1\u001b[0m   \u001b[1;36m2\u001b[0m   \u001b[1;36m3\u001b[0m   \u001b[1;36m4\u001b[0m   \u001b[1;36m5\u001b[0m   \u001b[1;36m6\u001b[0m   \u001b[1;36m7\u001b[0m\n",
       "\n"
      ]
     },
     "metadata": {},
     "output_type": "display_data"
    },
    {
     "data": {
      "text/html": [
       "<pre style=\"white-space:pre;overflow-x:auto;line-height:normal;font-family:Menlo,'DejaVu Sans Mono',consolas,'Courier New',monospace\">\n",
       "   |   |   | <span style=\"color: #008000; text-decoration-color: #008000\">X</span> |   |   |  \n",
       "---|---|---|---|---|---|---\n",
       "   |   | <span style=\"color: #008000; text-decoration-color: #008000\">X</span> | <span style=\"color: #800000; text-decoration-color: #800000\">O</span> |   |   |  \n",
       "---|---|---|---|---|---|---\n",
       "   | <span style=\"color: #800000; text-decoration-color: #800000\">O</span> | <span style=\"color: #800000; text-decoration-color: #800000\">O</span> | <span style=\"color: #800000; text-decoration-color: #800000\">O</span> |   |   |  \n",
       "---|---|---|---|---|---|---\n",
       "   | <span style=\"color: #008000; text-decoration-color: #008000\">X</span> | <span style=\"color: #800000; text-decoration-color: #800000\">O</span> | <span style=\"color: #008000; text-decoration-color: #008000\">X</span> |   | <span style=\"color: #800000; text-decoration-color: #800000\">O</span> |  \n",
       "---|---|---|---|---|---|---\n",
       "   | <span style=\"color: #800000; text-decoration-color: #800000\">O</span> | <span style=\"color: #008000; text-decoration-color: #008000\">X</span> | <span style=\"color: #008000; text-decoration-color: #008000\">X</span> |   | <span style=\"color: #800000; text-decoration-color: #800000\">O</span> |  \n",
       "---|---|---|---|---|---|---\n",
       " <span style=\"color: #008000; text-decoration-color: #008000\">X</span> | <span style=\"color: #008000; text-decoration-color: #008000\">X</span> | <span style=\"color: #800000; text-decoration-color: #800000\">O</span> | <span style=\"color: #008000; text-decoration-color: #008000\">X</span> |   | <span style=\"color: #800000; text-decoration-color: #800000\">O</span> | <span style=\"color: #008000; text-decoration-color: #008000\">X</span>\n",
       "---|---|---|---|---|---|---\n",
       " <span style=\"color: #008080; text-decoration-color: #008080; font-weight: bold\">1</span>   <span style=\"color: #008080; text-decoration-color: #008080; font-weight: bold\">2</span>   <span style=\"color: #008080; text-decoration-color: #008080; font-weight: bold\">3</span>   <span style=\"color: #008080; text-decoration-color: #008080; font-weight: bold\">4</span>   <span style=\"color: #008080; text-decoration-color: #008080; font-weight: bold\">5</span>   <span style=\"color: #008080; text-decoration-color: #008080; font-weight: bold\">6</span>   <span style=\"color: #008080; text-decoration-color: #008080; font-weight: bold\">7</span>\n",
       "\n",
       "</pre>\n"
      ],
      "text/plain": [
       "\n",
       "   |   |   | \u001b[32mX\u001b[0m |   |   |  \n",
       "---|---|---|---|---|---|---\n",
       "   |   | \u001b[32mX\u001b[0m | \u001b[31mO\u001b[0m |   |   |  \n",
       "---|---|---|---|---|---|---\n",
       "   | \u001b[31mO\u001b[0m | \u001b[31mO\u001b[0m | \u001b[31mO\u001b[0m |   |   |  \n",
       "---|---|---|---|---|---|---\n",
       "   | \u001b[32mX\u001b[0m | \u001b[31mO\u001b[0m | \u001b[32mX\u001b[0m |   | \u001b[31mO\u001b[0m |  \n",
       "---|---|---|---|---|---|---\n",
       "   | \u001b[31mO\u001b[0m | \u001b[32mX\u001b[0m | \u001b[32mX\u001b[0m |   | \u001b[31mO\u001b[0m |  \n",
       "---|---|---|---|---|---|---\n",
       " \u001b[32mX\u001b[0m | \u001b[32mX\u001b[0m | \u001b[31mO\u001b[0m | \u001b[32mX\u001b[0m |   | \u001b[31mO\u001b[0m | \u001b[32mX\u001b[0m\n",
       "---|---|---|---|---|---|---\n",
       " \u001b[1;36m1\u001b[0m   \u001b[1;36m2\u001b[0m   \u001b[1;36m3\u001b[0m   \u001b[1;36m4\u001b[0m   \u001b[1;36m5\u001b[0m   \u001b[1;36m6\u001b[0m   \u001b[1;36m7\u001b[0m\n",
       "\n"
      ]
     },
     "metadata": {},
     "output_type": "display_data"
    },
    {
     "data": {
      "text/html": [
       "<pre style=\"white-space:pre;overflow-x:auto;line-height:normal;font-family:Menlo,'DejaVu Sans Mono',consolas,'Courier New',monospace\">\n",
       "   |   |   | <span style=\"color: #008000; text-decoration-color: #008000\">X</span> |   |   |  \n",
       "---|---|---|---|---|---|---\n",
       "   |   | <span style=\"color: #008000; text-decoration-color: #008000\">X</span> | <span style=\"color: #800000; text-decoration-color: #800000\">O</span> |   |   |  \n",
       "---|---|---|---|---|---|---\n",
       "   | <span style=\"color: #800000; text-decoration-color: #800000\">O</span> | <span style=\"color: #800000; text-decoration-color: #800000\">O</span> | <span style=\"color: #800000; text-decoration-color: #800000\">O</span> |   | <span style=\"color: #008000; text-decoration-color: #008000\">X</span> |  \n",
       "---|---|---|---|---|---|---\n",
       "   | <span style=\"color: #008000; text-decoration-color: #008000\">X</span> | <span style=\"color: #800000; text-decoration-color: #800000\">O</span> | <span style=\"color: #008000; text-decoration-color: #008000\">X</span> |   | <span style=\"color: #800000; text-decoration-color: #800000\">O</span> |  \n",
       "---|---|---|---|---|---|---\n",
       "   | <span style=\"color: #800000; text-decoration-color: #800000\">O</span> | <span style=\"color: #008000; text-decoration-color: #008000\">X</span> | <span style=\"color: #008000; text-decoration-color: #008000\">X</span> |   | <span style=\"color: #800000; text-decoration-color: #800000\">O</span> |  \n",
       "---|---|---|---|---|---|---\n",
       " <span style=\"color: #008000; text-decoration-color: #008000\">X</span> | <span style=\"color: #008000; text-decoration-color: #008000\">X</span> | <span style=\"color: #800000; text-decoration-color: #800000\">O</span> | <span style=\"color: #008000; text-decoration-color: #008000\">X</span> |   | <span style=\"color: #800000; text-decoration-color: #800000\">O</span> | <span style=\"color: #008000; text-decoration-color: #008000\">X</span>\n",
       "---|---|---|---|---|---|---\n",
       " <span style=\"color: #008080; text-decoration-color: #008080; font-weight: bold\">1</span>   <span style=\"color: #008080; text-decoration-color: #008080; font-weight: bold\">2</span>   <span style=\"color: #008080; text-decoration-color: #008080; font-weight: bold\">3</span>   <span style=\"color: #008080; text-decoration-color: #008080; font-weight: bold\">4</span>   <span style=\"color: #008080; text-decoration-color: #008080; font-weight: bold\">5</span>   <span style=\"color: #008080; text-decoration-color: #008080; font-weight: bold\">6</span>   <span style=\"color: #008080; text-decoration-color: #008080; font-weight: bold\">7</span>\n",
       "\n",
       "</pre>\n"
      ],
      "text/plain": [
       "\n",
       "   |   |   | \u001b[32mX\u001b[0m |   |   |  \n",
       "---|---|---|---|---|---|---\n",
       "   |   | \u001b[32mX\u001b[0m | \u001b[31mO\u001b[0m |   |   |  \n",
       "---|---|---|---|---|---|---\n",
       "   | \u001b[31mO\u001b[0m | \u001b[31mO\u001b[0m | \u001b[31mO\u001b[0m |   | \u001b[32mX\u001b[0m |  \n",
       "---|---|---|---|---|---|---\n",
       "   | \u001b[32mX\u001b[0m | \u001b[31mO\u001b[0m | \u001b[32mX\u001b[0m |   | \u001b[31mO\u001b[0m |  \n",
       "---|---|---|---|---|---|---\n",
       "   | \u001b[31mO\u001b[0m | \u001b[32mX\u001b[0m | \u001b[32mX\u001b[0m |   | \u001b[31mO\u001b[0m |  \n",
       "---|---|---|---|---|---|---\n",
       " \u001b[32mX\u001b[0m | \u001b[32mX\u001b[0m | \u001b[31mO\u001b[0m | \u001b[32mX\u001b[0m |   | \u001b[31mO\u001b[0m | \u001b[32mX\u001b[0m\n",
       "---|---|---|---|---|---|---\n",
       " \u001b[1;36m1\u001b[0m   \u001b[1;36m2\u001b[0m   \u001b[1;36m3\u001b[0m   \u001b[1;36m4\u001b[0m   \u001b[1;36m5\u001b[0m   \u001b[1;36m6\u001b[0m   \u001b[1;36m7\u001b[0m\n",
       "\n"
      ]
     },
     "metadata": {},
     "output_type": "display_data"
    },
    {
     "data": {
      "text/html": [
       "<pre style=\"white-space:pre;overflow-x:auto;line-height:normal;font-family:Menlo,'DejaVu Sans Mono',consolas,'Courier New',monospace\">\n",
       "   |   |   | <span style=\"color: #008000; text-decoration-color: #008000\">X</span> |   |   |  \n",
       "---|---|---|---|---|---|---\n",
       "   | <span style=\"color: #800000; text-decoration-color: #800000\">O</span> | <span style=\"color: #008000; text-decoration-color: #008000\">X</span> | <span style=\"color: #800000; text-decoration-color: #800000\">O</span> |   |   |  \n",
       "---|---|---|---|---|---|---\n",
       "   | <span style=\"color: #800000; text-decoration-color: #800000\">O</span> | <span style=\"color: #800000; text-decoration-color: #800000\">O</span> | <span style=\"color: #800000; text-decoration-color: #800000\">O</span> |   | <span style=\"color: #008000; text-decoration-color: #008000\">X</span> |  \n",
       "---|---|---|---|---|---|---\n",
       "   | <span style=\"color: #008000; text-decoration-color: #008000\">X</span> | <span style=\"color: #800000; text-decoration-color: #800000\">O</span> | <span style=\"color: #008000; text-decoration-color: #008000\">X</span> |   | <span style=\"color: #800000; text-decoration-color: #800000\">O</span> |  \n",
       "---|---|---|---|---|---|---\n",
       "   | <span style=\"color: #800000; text-decoration-color: #800000\">O</span> | <span style=\"color: #008000; text-decoration-color: #008000\">X</span> | <span style=\"color: #008000; text-decoration-color: #008000\">X</span> |   | <span style=\"color: #800000; text-decoration-color: #800000\">O</span> |  \n",
       "---|---|---|---|---|---|---\n",
       " <span style=\"color: #008000; text-decoration-color: #008000\">X</span> | <span style=\"color: #008000; text-decoration-color: #008000\">X</span> | <span style=\"color: #800000; text-decoration-color: #800000\">O</span> | <span style=\"color: #008000; text-decoration-color: #008000\">X</span> |   | <span style=\"color: #800000; text-decoration-color: #800000\">O</span> | <span style=\"color: #008000; text-decoration-color: #008000\">X</span>\n",
       "---|---|---|---|---|---|---\n",
       " <span style=\"color: #008080; text-decoration-color: #008080; font-weight: bold\">1</span>   <span style=\"color: #008080; text-decoration-color: #008080; font-weight: bold\">2</span>   <span style=\"color: #008080; text-decoration-color: #008080; font-weight: bold\">3</span>   <span style=\"color: #008080; text-decoration-color: #008080; font-weight: bold\">4</span>   <span style=\"color: #008080; text-decoration-color: #008080; font-weight: bold\">5</span>   <span style=\"color: #008080; text-decoration-color: #008080; font-weight: bold\">6</span>   <span style=\"color: #008080; text-decoration-color: #008080; font-weight: bold\">7</span>\n",
       "\n",
       "</pre>\n"
      ],
      "text/plain": [
       "\n",
       "   |   |   | \u001b[32mX\u001b[0m |   |   |  \n",
       "---|---|---|---|---|---|---\n",
       "   | \u001b[31mO\u001b[0m | \u001b[32mX\u001b[0m | \u001b[31mO\u001b[0m |   |   |  \n",
       "---|---|---|---|---|---|---\n",
       "   | \u001b[31mO\u001b[0m | \u001b[31mO\u001b[0m | \u001b[31mO\u001b[0m |   | \u001b[32mX\u001b[0m |  \n",
       "---|---|---|---|---|---|---\n",
       "   | \u001b[32mX\u001b[0m | \u001b[31mO\u001b[0m | \u001b[32mX\u001b[0m |   | \u001b[31mO\u001b[0m |  \n",
       "---|---|---|---|---|---|---\n",
       "   | \u001b[31mO\u001b[0m | \u001b[32mX\u001b[0m | \u001b[32mX\u001b[0m |   | \u001b[31mO\u001b[0m |  \n",
       "---|---|---|---|---|---|---\n",
       " \u001b[32mX\u001b[0m | \u001b[32mX\u001b[0m | \u001b[31mO\u001b[0m | \u001b[32mX\u001b[0m |   | \u001b[31mO\u001b[0m | \u001b[32mX\u001b[0m\n",
       "---|---|---|---|---|---|---\n",
       " \u001b[1;36m1\u001b[0m   \u001b[1;36m2\u001b[0m   \u001b[1;36m3\u001b[0m   \u001b[1;36m4\u001b[0m   \u001b[1;36m5\u001b[0m   \u001b[1;36m6\u001b[0m   \u001b[1;36m7\u001b[0m\n",
       "\n"
      ]
     },
     "metadata": {},
     "output_type": "display_data"
    },
    {
     "data": {
      "text/html": [
       "<pre style=\"white-space:pre;overflow-x:auto;line-height:normal;font-family:Menlo,'DejaVu Sans Mono',consolas,'Courier New',monospace\">\n",
       "   |   |   | <span style=\"color: #008000; text-decoration-color: #008000\">X</span> |   |   |  \n",
       "---|---|---|---|---|---|---\n",
       "   | <span style=\"color: #800000; text-decoration-color: #800000\">O</span> | <span style=\"color: #008000; text-decoration-color: #008000\">X</span> | <span style=\"color: #800000; text-decoration-color: #800000\">O</span> |   |   |  \n",
       "---|---|---|---|---|---|---\n",
       "   | <span style=\"color: #800000; text-decoration-color: #800000\">O</span> | <span style=\"color: #800000; text-decoration-color: #800000\">O</span> | <span style=\"color: #800000; text-decoration-color: #800000\">O</span> |   | <span style=\"color: #008000; text-decoration-color: #008000\">X</span> |  \n",
       "---|---|---|---|---|---|---\n",
       "   | <span style=\"color: #008000; text-decoration-color: #008000\">X</span> | <span style=\"color: #800000; text-decoration-color: #800000\">O</span> | <span style=\"color: #008000; text-decoration-color: #008000\">X</span> |   | <span style=\"color: #800000; text-decoration-color: #800000\">O</span> |  \n",
       "---|---|---|---|---|---|---\n",
       "   | <span style=\"color: #800000; text-decoration-color: #800000\">O</span> | <span style=\"color: #008000; text-decoration-color: #008000\">X</span> | <span style=\"color: #008000; text-decoration-color: #008000\">X</span> |   | <span style=\"color: #800000; text-decoration-color: #800000\">O</span> | <span style=\"color: #008000; text-decoration-color: #008000\">X</span>\n",
       "---|---|---|---|---|---|---\n",
       " <span style=\"color: #008000; text-decoration-color: #008000\">X</span> | <span style=\"color: #008000; text-decoration-color: #008000\">X</span> | <span style=\"color: #800000; text-decoration-color: #800000\">O</span> | <span style=\"color: #008000; text-decoration-color: #008000\">X</span> |   | <span style=\"color: #800000; text-decoration-color: #800000\">O</span> | <span style=\"color: #008000; text-decoration-color: #008000\">X</span>\n",
       "---|---|---|---|---|---|---\n",
       " <span style=\"color: #008080; text-decoration-color: #008080; font-weight: bold\">1</span>   <span style=\"color: #008080; text-decoration-color: #008080; font-weight: bold\">2</span>   <span style=\"color: #008080; text-decoration-color: #008080; font-weight: bold\">3</span>   <span style=\"color: #008080; text-decoration-color: #008080; font-weight: bold\">4</span>   <span style=\"color: #008080; text-decoration-color: #008080; font-weight: bold\">5</span>   <span style=\"color: #008080; text-decoration-color: #008080; font-weight: bold\">6</span>   <span style=\"color: #008080; text-decoration-color: #008080; font-weight: bold\">7</span>\n",
       "\n",
       "</pre>\n"
      ],
      "text/plain": [
       "\n",
       "   |   |   | \u001b[32mX\u001b[0m |   |   |  \n",
       "---|---|---|---|---|---|---\n",
       "   | \u001b[31mO\u001b[0m | \u001b[32mX\u001b[0m | \u001b[31mO\u001b[0m |   |   |  \n",
       "---|---|---|---|---|---|---\n",
       "   | \u001b[31mO\u001b[0m | \u001b[31mO\u001b[0m | \u001b[31mO\u001b[0m |   | \u001b[32mX\u001b[0m |  \n",
       "---|---|---|---|---|---|---\n",
       "   | \u001b[32mX\u001b[0m | \u001b[31mO\u001b[0m | \u001b[32mX\u001b[0m |   | \u001b[31mO\u001b[0m |  \n",
       "---|---|---|---|---|---|---\n",
       "   | \u001b[31mO\u001b[0m | \u001b[32mX\u001b[0m | \u001b[32mX\u001b[0m |   | \u001b[31mO\u001b[0m | \u001b[32mX\u001b[0m\n",
       "---|---|---|---|---|---|---\n",
       " \u001b[32mX\u001b[0m | \u001b[32mX\u001b[0m | \u001b[31mO\u001b[0m | \u001b[32mX\u001b[0m |   | \u001b[31mO\u001b[0m | \u001b[32mX\u001b[0m\n",
       "---|---|---|---|---|---|---\n",
       " \u001b[1;36m1\u001b[0m   \u001b[1;36m2\u001b[0m   \u001b[1;36m3\u001b[0m   \u001b[1;36m4\u001b[0m   \u001b[1;36m5\u001b[0m   \u001b[1;36m6\u001b[0m   \u001b[1;36m7\u001b[0m\n",
       "\n"
      ]
     },
     "metadata": {},
     "output_type": "display_data"
    },
    {
     "data": {
      "text/html": [
       "<pre style=\"white-space:pre;overflow-x:auto;line-height:normal;font-family:Menlo,'DejaVu Sans Mono',consolas,'Courier New',monospace\">\n",
       "   |   |   | <span style=\"color: #008000; text-decoration-color: #008000\">X</span> |   |   |  \n",
       "---|---|---|---|---|---|---\n",
       "   | <span style=\"color: #800000; text-decoration-color: #800000\">O</span> | <span style=\"color: #008000; text-decoration-color: #008000\">X</span> | <span style=\"color: #800000; text-decoration-color: #800000\">O</span> |   |   |  \n",
       "---|---|---|---|---|---|---\n",
       "   | <span style=\"color: #800000; text-decoration-color: #800000\">O</span> | <span style=\"color: #800000; text-decoration-color: #800000\">O</span> | <span style=\"color: #800000; text-decoration-color: #800000\">O</span> |   | <span style=\"color: #008000; text-decoration-color: #008000\">X</span> |  \n",
       "---|---|---|---|---|---|---\n",
       "   | <span style=\"color: #008000; text-decoration-color: #008000\">X</span> | <span style=\"color: #800000; text-decoration-color: #800000\">O</span> | <span style=\"color: #008000; text-decoration-color: #008000\">X</span> |   | <span style=\"color: #800000; text-decoration-color: #800000\">O</span> |  \n",
       "---|---|---|---|---|---|---\n",
       " <span style=\"color: #800000; text-decoration-color: #800000\">O</span> | <span style=\"color: #800000; text-decoration-color: #800000\">O</span> | <span style=\"color: #008000; text-decoration-color: #008000\">X</span> | <span style=\"color: #008000; text-decoration-color: #008000\">X</span> |   | <span style=\"color: #800000; text-decoration-color: #800000\">O</span> | <span style=\"color: #008000; text-decoration-color: #008000\">X</span>\n",
       "---|---|---|---|---|---|---\n",
       " <span style=\"color: #008000; text-decoration-color: #008000\">X</span> | <span style=\"color: #008000; text-decoration-color: #008000\">X</span> | <span style=\"color: #800000; text-decoration-color: #800000\">O</span> | <span style=\"color: #008000; text-decoration-color: #008000\">X</span> |   | <span style=\"color: #800000; text-decoration-color: #800000\">O</span> | <span style=\"color: #008000; text-decoration-color: #008000\">X</span>\n",
       "---|---|---|---|---|---|---\n",
       " <span style=\"color: #008080; text-decoration-color: #008080; font-weight: bold\">1</span>   <span style=\"color: #008080; text-decoration-color: #008080; font-weight: bold\">2</span>   <span style=\"color: #008080; text-decoration-color: #008080; font-weight: bold\">3</span>   <span style=\"color: #008080; text-decoration-color: #008080; font-weight: bold\">4</span>   <span style=\"color: #008080; text-decoration-color: #008080; font-weight: bold\">5</span>   <span style=\"color: #008080; text-decoration-color: #008080; font-weight: bold\">6</span>   <span style=\"color: #008080; text-decoration-color: #008080; font-weight: bold\">7</span>\n",
       "\n",
       "</pre>\n"
      ],
      "text/plain": [
       "\n",
       "   |   |   | \u001b[32mX\u001b[0m |   |   |  \n",
       "---|---|---|---|---|---|---\n",
       "   | \u001b[31mO\u001b[0m | \u001b[32mX\u001b[0m | \u001b[31mO\u001b[0m |   |   |  \n",
       "---|---|---|---|---|---|---\n",
       "   | \u001b[31mO\u001b[0m | \u001b[31mO\u001b[0m | \u001b[31mO\u001b[0m |   | \u001b[32mX\u001b[0m |  \n",
       "---|---|---|---|---|---|---\n",
       "   | \u001b[32mX\u001b[0m | \u001b[31mO\u001b[0m | \u001b[32mX\u001b[0m |   | \u001b[31mO\u001b[0m |  \n",
       "---|---|---|---|---|---|---\n",
       " \u001b[31mO\u001b[0m | \u001b[31mO\u001b[0m | \u001b[32mX\u001b[0m | \u001b[32mX\u001b[0m |   | \u001b[31mO\u001b[0m | \u001b[32mX\u001b[0m\n",
       "---|---|---|---|---|---|---\n",
       " \u001b[32mX\u001b[0m | \u001b[32mX\u001b[0m | \u001b[31mO\u001b[0m | \u001b[32mX\u001b[0m |   | \u001b[31mO\u001b[0m | \u001b[32mX\u001b[0m\n",
       "---|---|---|---|---|---|---\n",
       " \u001b[1;36m1\u001b[0m   \u001b[1;36m2\u001b[0m   \u001b[1;36m3\u001b[0m   \u001b[1;36m4\u001b[0m   \u001b[1;36m5\u001b[0m   \u001b[1;36m6\u001b[0m   \u001b[1;36m7\u001b[0m\n",
       "\n"
      ]
     },
     "metadata": {},
     "output_type": "display_data"
    },
    {
     "data": {
      "text/html": [
       "<pre style=\"white-space:pre;overflow-x:auto;line-height:normal;font-family:Menlo,'DejaVu Sans Mono',consolas,'Courier New',monospace\">\n",
       "   |   |   | <span style=\"color: #008000; text-decoration-color: #008000\">X</span> |   |   |  \n",
       "---|---|---|---|---|---|---\n",
       "   | <span style=\"color: #800000; text-decoration-color: #800000\">O</span> | <span style=\"color: #008000; text-decoration-color: #008000\">X</span> | <span style=\"color: #800000; text-decoration-color: #800000\">O</span> |   |   |  \n",
       "---|---|---|---|---|---|---\n",
       "   | <span style=\"color: #800000; text-decoration-color: #800000\">O</span> | <span style=\"color: #800000; text-decoration-color: #800000\">O</span> | <span style=\"color: #800000; text-decoration-color: #800000\">O</span> |   | <span style=\"color: #008000; text-decoration-color: #008000\">X</span> |  \n",
       "---|---|---|---|---|---|---\n",
       "   | <span style=\"color: #008000; text-decoration-color: #008000\">X</span> | <span style=\"color: #800000; text-decoration-color: #800000\">O</span> | <span style=\"color: #008000; text-decoration-color: #008000\">X</span> |   | <span style=\"color: #800000; text-decoration-color: #800000\">O</span> | <span style=\"color: #008000; text-decoration-color: #008000\">X</span>\n",
       "---|---|---|---|---|---|---\n",
       " <span style=\"color: #800000; text-decoration-color: #800000\">O</span> | <span style=\"color: #800000; text-decoration-color: #800000\">O</span> | <span style=\"color: #008000; text-decoration-color: #008000\">X</span> | <span style=\"color: #008000; text-decoration-color: #008000\">X</span> |   | <span style=\"color: #800000; text-decoration-color: #800000\">O</span> | <span style=\"color: #008000; text-decoration-color: #008000\">X</span>\n",
       "---|---|---|---|---|---|---\n",
       " <span style=\"color: #008000; text-decoration-color: #008000\">X</span> | <span style=\"color: #008000; text-decoration-color: #008000\">X</span> | <span style=\"color: #800000; text-decoration-color: #800000\">O</span> | <span style=\"color: #008000; text-decoration-color: #008000\">X</span> |   | <span style=\"color: #800000; text-decoration-color: #800000\">O</span> | <span style=\"color: #008000; text-decoration-color: #008000\">X</span>\n",
       "---|---|---|---|---|---|---\n",
       " <span style=\"color: #008080; text-decoration-color: #008080; font-weight: bold\">1</span>   <span style=\"color: #008080; text-decoration-color: #008080; font-weight: bold\">2</span>   <span style=\"color: #008080; text-decoration-color: #008080; font-weight: bold\">3</span>   <span style=\"color: #008080; text-decoration-color: #008080; font-weight: bold\">4</span>   <span style=\"color: #008080; text-decoration-color: #008080; font-weight: bold\">5</span>   <span style=\"color: #008080; text-decoration-color: #008080; font-weight: bold\">6</span>   <span style=\"color: #008080; text-decoration-color: #008080; font-weight: bold\">7</span>\n",
       "\n",
       "</pre>\n"
      ],
      "text/plain": [
       "\n",
       "   |   |   | \u001b[32mX\u001b[0m |   |   |  \n",
       "---|---|---|---|---|---|---\n",
       "   | \u001b[31mO\u001b[0m | \u001b[32mX\u001b[0m | \u001b[31mO\u001b[0m |   |   |  \n",
       "---|---|---|---|---|---|---\n",
       "   | \u001b[31mO\u001b[0m | \u001b[31mO\u001b[0m | \u001b[31mO\u001b[0m |   | \u001b[32mX\u001b[0m |  \n",
       "---|---|---|---|---|---|---\n",
       "   | \u001b[32mX\u001b[0m | \u001b[31mO\u001b[0m | \u001b[32mX\u001b[0m |   | \u001b[31mO\u001b[0m | \u001b[32mX\u001b[0m\n",
       "---|---|---|---|---|---|---\n",
       " \u001b[31mO\u001b[0m | \u001b[31mO\u001b[0m | \u001b[32mX\u001b[0m | \u001b[32mX\u001b[0m |   | \u001b[31mO\u001b[0m | \u001b[32mX\u001b[0m\n",
       "---|---|---|---|---|---|---\n",
       " \u001b[32mX\u001b[0m | \u001b[32mX\u001b[0m | \u001b[31mO\u001b[0m | \u001b[32mX\u001b[0m |   | \u001b[31mO\u001b[0m | \u001b[32mX\u001b[0m\n",
       "---|---|---|---|---|---|---\n",
       " \u001b[1;36m1\u001b[0m   \u001b[1;36m2\u001b[0m   \u001b[1;36m3\u001b[0m   \u001b[1;36m4\u001b[0m   \u001b[1;36m5\u001b[0m   \u001b[1;36m6\u001b[0m   \u001b[1;36m7\u001b[0m\n",
       "\n"
      ]
     },
     "metadata": {},
     "output_type": "display_data"
    },
    {
     "data": {
      "text/html": [
       "<pre style=\"white-space:pre;overflow-x:auto;line-height:normal;font-family:Menlo,'DejaVu Sans Mono',consolas,'Courier New',monospace\">\n",
       "   |   |   | <span style=\"color: #008000; text-decoration-color: #008000\">X</span> |   |   |  \n",
       "---|---|---|---|---|---|---\n",
       "   | <span style=\"color: #800000; text-decoration-color: #800000\">O</span> | <span style=\"color: #008000; text-decoration-color: #008000\">X</span> | <span style=\"color: #800000; text-decoration-color: #800000\">O</span> |   |   |  \n",
       "---|---|---|---|---|---|---\n",
       "   | <span style=\"color: #800000; text-decoration-color: #800000\">O</span> | <span style=\"color: #800000; text-decoration-color: #800000\">O</span> | <span style=\"color: #800000; text-decoration-color: #800000\">O</span> |   | <span style=\"color: #008000; text-decoration-color: #008000\">X</span> | <span style=\"color: #800000; text-decoration-color: #800000\">O</span>\n",
       "---|---|---|---|---|---|---\n",
       "   | <span style=\"color: #008000; text-decoration-color: #008000\">X</span> | <span style=\"color: #800000; text-decoration-color: #800000\">O</span> | <span style=\"color: #008000; text-decoration-color: #008000\">X</span> |   | <span style=\"color: #800000; text-decoration-color: #800000\">O</span> | <span style=\"color: #008000; text-decoration-color: #008000\">X</span>\n",
       "---|---|---|---|---|---|---\n",
       " <span style=\"color: #800000; text-decoration-color: #800000\">O</span> | <span style=\"color: #800000; text-decoration-color: #800000\">O</span> | <span style=\"color: #008000; text-decoration-color: #008000\">X</span> | <span style=\"color: #008000; text-decoration-color: #008000\">X</span> |   | <span style=\"color: #800000; text-decoration-color: #800000\">O</span> | <span style=\"color: #008000; text-decoration-color: #008000\">X</span>\n",
       "---|---|---|---|---|---|---\n",
       " <span style=\"color: #008000; text-decoration-color: #008000\">X</span> | <span style=\"color: #008000; text-decoration-color: #008000\">X</span> | <span style=\"color: #800000; text-decoration-color: #800000\">O</span> | <span style=\"color: #008000; text-decoration-color: #008000\">X</span> |   | <span style=\"color: #800000; text-decoration-color: #800000\">O</span> | <span style=\"color: #008000; text-decoration-color: #008000\">X</span>\n",
       "---|---|---|---|---|---|---\n",
       " <span style=\"color: #008080; text-decoration-color: #008080; font-weight: bold\">1</span>   <span style=\"color: #008080; text-decoration-color: #008080; font-weight: bold\">2</span>   <span style=\"color: #008080; text-decoration-color: #008080; font-weight: bold\">3</span>   <span style=\"color: #008080; text-decoration-color: #008080; font-weight: bold\">4</span>   <span style=\"color: #008080; text-decoration-color: #008080; font-weight: bold\">5</span>   <span style=\"color: #008080; text-decoration-color: #008080; font-weight: bold\">6</span>   <span style=\"color: #008080; text-decoration-color: #008080; font-weight: bold\">7</span>\n",
       "\n",
       "</pre>\n"
      ],
      "text/plain": [
       "\n",
       "   |   |   | \u001b[32mX\u001b[0m |   |   |  \n",
       "---|---|---|---|---|---|---\n",
       "   | \u001b[31mO\u001b[0m | \u001b[32mX\u001b[0m | \u001b[31mO\u001b[0m |   |   |  \n",
       "---|---|---|---|---|---|---\n",
       "   | \u001b[31mO\u001b[0m | \u001b[31mO\u001b[0m | \u001b[31mO\u001b[0m |   | \u001b[32mX\u001b[0m | \u001b[31mO\u001b[0m\n",
       "---|---|---|---|---|---|---\n",
       "   | \u001b[32mX\u001b[0m | \u001b[31mO\u001b[0m | \u001b[32mX\u001b[0m |   | \u001b[31mO\u001b[0m | \u001b[32mX\u001b[0m\n",
       "---|---|---|---|---|---|---\n",
       " \u001b[31mO\u001b[0m | \u001b[31mO\u001b[0m | \u001b[32mX\u001b[0m | \u001b[32mX\u001b[0m |   | \u001b[31mO\u001b[0m | \u001b[32mX\u001b[0m\n",
       "---|---|---|---|---|---|---\n",
       " \u001b[32mX\u001b[0m | \u001b[32mX\u001b[0m | \u001b[31mO\u001b[0m | \u001b[32mX\u001b[0m |   | \u001b[31mO\u001b[0m | \u001b[32mX\u001b[0m\n",
       "---|---|---|---|---|---|---\n",
       " \u001b[1;36m1\u001b[0m   \u001b[1;36m2\u001b[0m   \u001b[1;36m3\u001b[0m   \u001b[1;36m4\u001b[0m   \u001b[1;36m5\u001b[0m   \u001b[1;36m6\u001b[0m   \u001b[1;36m7\u001b[0m\n",
       "\n"
      ]
     },
     "metadata": {},
     "output_type": "display_data"
    },
    {
     "data": {
      "text/html": [
       "<pre style=\"white-space:pre;overflow-x:auto;line-height:normal;font-family:Menlo,'DejaVu Sans Mono',consolas,'Courier New',monospace\">\n",
       "   |   |   | <span style=\"color: #008000; text-decoration-color: #008000\">X</span> |   |   |  \n",
       "---|---|---|---|---|---|---\n",
       "   | <span style=\"color: #800000; text-decoration-color: #800000\">O</span> | <span style=\"color: #008000; text-decoration-color: #008000\">X</span> | <span style=\"color: #800000; text-decoration-color: #800000\">O</span> |   |   | <span style=\"color: #008000; text-decoration-color: #008000\">X</span>\n",
       "---|---|---|---|---|---|---\n",
       "   | <span style=\"color: #800000; text-decoration-color: #800000\">O</span> | <span style=\"color: #800000; text-decoration-color: #800000\">O</span> | <span style=\"color: #800000; text-decoration-color: #800000\">O</span> |   | <span style=\"color: #008000; text-decoration-color: #008000\">X</span> | <span style=\"color: #800000; text-decoration-color: #800000\">O</span>\n",
       "---|---|---|---|---|---|---\n",
       "   | <span style=\"color: #008000; text-decoration-color: #008000\">X</span> | <span style=\"color: #800000; text-decoration-color: #800000\">O</span> | <span style=\"color: #008000; text-decoration-color: #008000\">X</span> |   | <span style=\"color: #800000; text-decoration-color: #800000\">O</span> | <span style=\"color: #008000; text-decoration-color: #008000\">X</span>\n",
       "---|---|---|---|---|---|---\n",
       " <span style=\"color: #800000; text-decoration-color: #800000\">O</span> | <span style=\"color: #800000; text-decoration-color: #800000\">O</span> | <span style=\"color: #008000; text-decoration-color: #008000\">X</span> | <span style=\"color: #008000; text-decoration-color: #008000\">X</span> |   | <span style=\"color: #800000; text-decoration-color: #800000\">O</span> | <span style=\"color: #008000; text-decoration-color: #008000\">X</span>\n",
       "---|---|---|---|---|---|---\n",
       " <span style=\"color: #008000; text-decoration-color: #008000\">X</span> | <span style=\"color: #008000; text-decoration-color: #008000\">X</span> | <span style=\"color: #800000; text-decoration-color: #800000\">O</span> | <span style=\"color: #008000; text-decoration-color: #008000\">X</span> |   | <span style=\"color: #800000; text-decoration-color: #800000\">O</span> | <span style=\"color: #008000; text-decoration-color: #008000\">X</span>\n",
       "---|---|---|---|---|---|---\n",
       " <span style=\"color: #008080; text-decoration-color: #008080; font-weight: bold\">1</span>   <span style=\"color: #008080; text-decoration-color: #008080; font-weight: bold\">2</span>   <span style=\"color: #008080; text-decoration-color: #008080; font-weight: bold\">3</span>   <span style=\"color: #008080; text-decoration-color: #008080; font-weight: bold\">4</span>   <span style=\"color: #008080; text-decoration-color: #008080; font-weight: bold\">5</span>   <span style=\"color: #008080; text-decoration-color: #008080; font-weight: bold\">6</span>   <span style=\"color: #008080; text-decoration-color: #008080; font-weight: bold\">7</span>\n",
       "\n",
       "</pre>\n"
      ],
      "text/plain": [
       "\n",
       "   |   |   | \u001b[32mX\u001b[0m |   |   |  \n",
       "---|---|---|---|---|---|---\n",
       "   | \u001b[31mO\u001b[0m | \u001b[32mX\u001b[0m | \u001b[31mO\u001b[0m |   |   | \u001b[32mX\u001b[0m\n",
       "---|---|---|---|---|---|---\n",
       "   | \u001b[31mO\u001b[0m | \u001b[31mO\u001b[0m | \u001b[31mO\u001b[0m |   | \u001b[32mX\u001b[0m | \u001b[31mO\u001b[0m\n",
       "---|---|---|---|---|---|---\n",
       "   | \u001b[32mX\u001b[0m | \u001b[31mO\u001b[0m | \u001b[32mX\u001b[0m |   | \u001b[31mO\u001b[0m | \u001b[32mX\u001b[0m\n",
       "---|---|---|---|---|---|---\n",
       " \u001b[31mO\u001b[0m | \u001b[31mO\u001b[0m | \u001b[32mX\u001b[0m | \u001b[32mX\u001b[0m |   | \u001b[31mO\u001b[0m | \u001b[32mX\u001b[0m\n",
       "---|---|---|---|---|---|---\n",
       " \u001b[32mX\u001b[0m | \u001b[32mX\u001b[0m | \u001b[31mO\u001b[0m | \u001b[32mX\u001b[0m |   | \u001b[31mO\u001b[0m | \u001b[32mX\u001b[0m\n",
       "---|---|---|---|---|---|---\n",
       " \u001b[1;36m1\u001b[0m   \u001b[1;36m2\u001b[0m   \u001b[1;36m3\u001b[0m   \u001b[1;36m4\u001b[0m   \u001b[1;36m5\u001b[0m   \u001b[1;36m6\u001b[0m   \u001b[1;36m7\u001b[0m\n",
       "\n"
      ]
     },
     "metadata": {},
     "output_type": "display_data"
    },
    {
     "data": {
      "text/html": [
       "<pre style=\"white-space:pre;overflow-x:auto;line-height:normal;font-family:Menlo,'DejaVu Sans Mono',consolas,'Courier New',monospace\">\n",
       "   |   |   | <span style=\"color: #008000; text-decoration-color: #008000\">X</span> |   |   |  \n",
       "---|---|---|---|---|---|---\n",
       "   | <span style=\"color: #800000; text-decoration-color: #800000\">O</span> | <span style=\"color: #008000; text-decoration-color: #008000\">X</span> | <span style=\"color: #800000; text-decoration-color: #800000\">O</span> |   | <span style=\"color: #800000; text-decoration-color: #800000\">O</span> | <span style=\"color: #008000; text-decoration-color: #008000\">X</span>\n",
       "---|---|---|---|---|---|---\n",
       "   | <span style=\"color: #800000; text-decoration-color: #800000\">O</span> | <span style=\"color: #800000; text-decoration-color: #800000\">O</span> | <span style=\"color: #800000; text-decoration-color: #800000\">O</span> |   | <span style=\"color: #008000; text-decoration-color: #008000\">X</span> | <span style=\"color: #800000; text-decoration-color: #800000\">O</span>\n",
       "---|---|---|---|---|---|---\n",
       "   | <span style=\"color: #008000; text-decoration-color: #008000\">X</span> | <span style=\"color: #800000; text-decoration-color: #800000\">O</span> | <span style=\"color: #008000; text-decoration-color: #008000\">X</span> |   | <span style=\"color: #800000; text-decoration-color: #800000\">O</span> | <span style=\"color: #008000; text-decoration-color: #008000\">X</span>\n",
       "---|---|---|---|---|---|---\n",
       " <span style=\"color: #800000; text-decoration-color: #800000\">O</span> | <span style=\"color: #800000; text-decoration-color: #800000\">O</span> | <span style=\"color: #008000; text-decoration-color: #008000\">X</span> | <span style=\"color: #008000; text-decoration-color: #008000\">X</span> |   | <span style=\"color: #800000; text-decoration-color: #800000\">O</span> | <span style=\"color: #008000; text-decoration-color: #008000\">X</span>\n",
       "---|---|---|---|---|---|---\n",
       " <span style=\"color: #008000; text-decoration-color: #008000\">X</span> | <span style=\"color: #008000; text-decoration-color: #008000\">X</span> | <span style=\"color: #800000; text-decoration-color: #800000\">O</span> | <span style=\"color: #008000; text-decoration-color: #008000\">X</span> |   | <span style=\"color: #800000; text-decoration-color: #800000\">O</span> | <span style=\"color: #008000; text-decoration-color: #008000\">X</span>\n",
       "---|---|---|---|---|---|---\n",
       " <span style=\"color: #008080; text-decoration-color: #008080; font-weight: bold\">1</span>   <span style=\"color: #008080; text-decoration-color: #008080; font-weight: bold\">2</span>   <span style=\"color: #008080; text-decoration-color: #008080; font-weight: bold\">3</span>   <span style=\"color: #008080; text-decoration-color: #008080; font-weight: bold\">4</span>   <span style=\"color: #008080; text-decoration-color: #008080; font-weight: bold\">5</span>   <span style=\"color: #008080; text-decoration-color: #008080; font-weight: bold\">6</span>   <span style=\"color: #008080; text-decoration-color: #008080; font-weight: bold\">7</span>\n",
       "\n",
       "</pre>\n"
      ],
      "text/plain": [
       "\n",
       "   |   |   | \u001b[32mX\u001b[0m |   |   |  \n",
       "---|---|---|---|---|---|---\n",
       "   | \u001b[31mO\u001b[0m | \u001b[32mX\u001b[0m | \u001b[31mO\u001b[0m |   | \u001b[31mO\u001b[0m | \u001b[32mX\u001b[0m\n",
       "---|---|---|---|---|---|---\n",
       "   | \u001b[31mO\u001b[0m | \u001b[31mO\u001b[0m | \u001b[31mO\u001b[0m |   | \u001b[32mX\u001b[0m | \u001b[31mO\u001b[0m\n",
       "---|---|---|---|---|---|---\n",
       "   | \u001b[32mX\u001b[0m | \u001b[31mO\u001b[0m | \u001b[32mX\u001b[0m |   | \u001b[31mO\u001b[0m | \u001b[32mX\u001b[0m\n",
       "---|---|---|---|---|---|---\n",
       " \u001b[31mO\u001b[0m | \u001b[31mO\u001b[0m | \u001b[32mX\u001b[0m | \u001b[32mX\u001b[0m |   | \u001b[31mO\u001b[0m | \u001b[32mX\u001b[0m\n",
       "---|---|---|---|---|---|---\n",
       " \u001b[32mX\u001b[0m | \u001b[32mX\u001b[0m | \u001b[31mO\u001b[0m | \u001b[32mX\u001b[0m |   | \u001b[31mO\u001b[0m | \u001b[32mX\u001b[0m\n",
       "---|---|---|---|---|---|---\n",
       " \u001b[1;36m1\u001b[0m   \u001b[1;36m2\u001b[0m   \u001b[1;36m3\u001b[0m   \u001b[1;36m4\u001b[0m   \u001b[1;36m5\u001b[0m   \u001b[1;36m6\u001b[0m   \u001b[1;36m7\u001b[0m\n",
       "\n"
      ]
     },
     "metadata": {},
     "output_type": "display_data"
    },
    {
     "data": {
      "text/html": [
       "<pre style=\"white-space:pre;overflow-x:auto;line-height:normal;font-family:Menlo,'DejaVu Sans Mono',consolas,'Courier New',monospace\">\n",
       "   |   |   | <span style=\"color: #008000; text-decoration-color: #008000\">X</span> |   |   |  \n",
       "---|---|---|---|---|---|---\n",
       "   | <span style=\"color: #800000; text-decoration-color: #800000\">O</span> | <span style=\"color: #008000; text-decoration-color: #008000\">X</span> | <span style=\"color: #800000; text-decoration-color: #800000\">O</span> |   | <span style=\"color: #800000; text-decoration-color: #800000\">O</span> | <span style=\"color: #008000; text-decoration-color: #008000\">X</span>\n",
       "---|---|---|---|---|---|---\n",
       "   | <span style=\"color: #800000; text-decoration-color: #800000\">O</span> | <span style=\"color: #800000; text-decoration-color: #800000\">O</span> | <span style=\"color: #800000; text-decoration-color: #800000\">O</span> |   | <span style=\"color: #008000; text-decoration-color: #008000\">X</span> | <span style=\"color: #800000; text-decoration-color: #800000\">O</span>\n",
       "---|---|---|---|---|---|---\n",
       "   | <span style=\"color: #008000; text-decoration-color: #008000\">X</span> | <span style=\"color: #800000; text-decoration-color: #800000\">O</span> | <span style=\"color: #008000; text-decoration-color: #008000\">X</span> |   | <span style=\"color: #800000; text-decoration-color: #800000\">O</span> | <span style=\"color: #008000; text-decoration-color: #008000\">X</span>\n",
       "---|---|---|---|---|---|---\n",
       " <span style=\"color: #800000; text-decoration-color: #800000\">O</span> | <span style=\"color: #800000; text-decoration-color: #800000\">O</span> | <span style=\"color: #008000; text-decoration-color: #008000\">X</span> | <span style=\"color: #008000; text-decoration-color: #008000\">X</span> |   | <span style=\"color: #800000; text-decoration-color: #800000\">O</span> | <span style=\"color: #008000; text-decoration-color: #008000\">X</span>\n",
       "---|---|---|---|---|---|---\n",
       " <span style=\"color: #008000; text-decoration-color: #008000\">X</span> | <span style=\"color: #008000; text-decoration-color: #008000\">X</span> | <span style=\"color: #800000; text-decoration-color: #800000\">O</span> | <span style=\"color: #008000; text-decoration-color: #008000\">X</span> | <span style=\"color: #008000; text-decoration-color: #008000\">X</span> | <span style=\"color: #800000; text-decoration-color: #800000\">O</span> | <span style=\"color: #008000; text-decoration-color: #008000\">X</span>\n",
       "---|---|---|---|---|---|---\n",
       " <span style=\"color: #008080; text-decoration-color: #008080; font-weight: bold\">1</span>   <span style=\"color: #008080; text-decoration-color: #008080; font-weight: bold\">2</span>   <span style=\"color: #008080; text-decoration-color: #008080; font-weight: bold\">3</span>   <span style=\"color: #008080; text-decoration-color: #008080; font-weight: bold\">4</span>   <span style=\"color: #008080; text-decoration-color: #008080; font-weight: bold\">5</span>   <span style=\"color: #008080; text-decoration-color: #008080; font-weight: bold\">6</span>   <span style=\"color: #008080; text-decoration-color: #008080; font-weight: bold\">7</span>\n",
       "\n",
       "</pre>\n"
      ],
      "text/plain": [
       "\n",
       "   |   |   | \u001b[32mX\u001b[0m |   |   |  \n",
       "---|---|---|---|---|---|---\n",
       "   | \u001b[31mO\u001b[0m | \u001b[32mX\u001b[0m | \u001b[31mO\u001b[0m |   | \u001b[31mO\u001b[0m | \u001b[32mX\u001b[0m\n",
       "---|---|---|---|---|---|---\n",
       "   | \u001b[31mO\u001b[0m | \u001b[31mO\u001b[0m | \u001b[31mO\u001b[0m |   | \u001b[32mX\u001b[0m | \u001b[31mO\u001b[0m\n",
       "---|---|---|---|---|---|---\n",
       "   | \u001b[32mX\u001b[0m | \u001b[31mO\u001b[0m | \u001b[32mX\u001b[0m |   | \u001b[31mO\u001b[0m | \u001b[32mX\u001b[0m\n",
       "---|---|---|---|---|---|---\n",
       " \u001b[31mO\u001b[0m | \u001b[31mO\u001b[0m | \u001b[32mX\u001b[0m | \u001b[32mX\u001b[0m |   | \u001b[31mO\u001b[0m | \u001b[32mX\u001b[0m\n",
       "---|---|---|---|---|---|---\n",
       " \u001b[32mX\u001b[0m | \u001b[32mX\u001b[0m | \u001b[31mO\u001b[0m | \u001b[32mX\u001b[0m | \u001b[32mX\u001b[0m | \u001b[31mO\u001b[0m | \u001b[32mX\u001b[0m\n",
       "---|---|---|---|---|---|---\n",
       " \u001b[1;36m1\u001b[0m   \u001b[1;36m2\u001b[0m   \u001b[1;36m3\u001b[0m   \u001b[1;36m4\u001b[0m   \u001b[1;36m5\u001b[0m   \u001b[1;36m6\u001b[0m   \u001b[1;36m7\u001b[0m\n",
       "\n"
      ]
     },
     "metadata": {},
     "output_type": "display_data"
    },
    {
     "data": {
      "text/html": [
       "<pre style=\"white-space:pre;overflow-x:auto;line-height:normal;font-family:Menlo,'DejaVu Sans Mono',consolas,'Courier New',monospace\">\n",
       "   |   | <span style=\"color: #800000; text-decoration-color: #800000\">O</span> | <span style=\"color: #008000; text-decoration-color: #008000\">X</span> |   |   |  \n",
       "---|---|---|---|---|---|---\n",
       "   | <span style=\"color: #800000; text-decoration-color: #800000\">O</span> | <span style=\"color: #008000; text-decoration-color: #008000\">X</span> | <span style=\"color: #800000; text-decoration-color: #800000\">O</span> |   | <span style=\"color: #800000; text-decoration-color: #800000\">O</span> | <span style=\"color: #008000; text-decoration-color: #008000\">X</span>\n",
       "---|---|---|---|---|---|---\n",
       "   | <span style=\"color: #800000; text-decoration-color: #800000\">O</span> | <span style=\"color: #800000; text-decoration-color: #800000\">O</span> | <span style=\"color: #800000; text-decoration-color: #800000\">O</span> |   | <span style=\"color: #008000; text-decoration-color: #008000\">X</span> | <span style=\"color: #800000; text-decoration-color: #800000\">O</span>\n",
       "---|---|---|---|---|---|---\n",
       "   | <span style=\"color: #008000; text-decoration-color: #008000\">X</span> | <span style=\"color: #800000; text-decoration-color: #800000\">O</span> | <span style=\"color: #008000; text-decoration-color: #008000\">X</span> |   | <span style=\"color: #800000; text-decoration-color: #800000\">O</span> | <span style=\"color: #008000; text-decoration-color: #008000\">X</span>\n",
       "---|---|---|---|---|---|---\n",
       " <span style=\"color: #800000; text-decoration-color: #800000\">O</span> | <span style=\"color: #800000; text-decoration-color: #800000\">O</span> | <span style=\"color: #008000; text-decoration-color: #008000\">X</span> | <span style=\"color: #008000; text-decoration-color: #008000\">X</span> |   | <span style=\"color: #800000; text-decoration-color: #800000\">O</span> | <span style=\"color: #008000; text-decoration-color: #008000\">X</span>\n",
       "---|---|---|---|---|---|---\n",
       " <span style=\"color: #008000; text-decoration-color: #008000\">X</span> | <span style=\"color: #008000; text-decoration-color: #008000\">X</span> | <span style=\"color: #800000; text-decoration-color: #800000\">O</span> | <span style=\"color: #008000; text-decoration-color: #008000\">X</span> | <span style=\"color: #008000; text-decoration-color: #008000\">X</span> | <span style=\"color: #800000; text-decoration-color: #800000\">O</span> | <span style=\"color: #008000; text-decoration-color: #008000\">X</span>\n",
       "---|---|---|---|---|---|---\n",
       " <span style=\"color: #008080; text-decoration-color: #008080; font-weight: bold\">1</span>   <span style=\"color: #008080; text-decoration-color: #008080; font-weight: bold\">2</span>   <span style=\"color: #008080; text-decoration-color: #008080; font-weight: bold\">3</span>   <span style=\"color: #008080; text-decoration-color: #008080; font-weight: bold\">4</span>   <span style=\"color: #008080; text-decoration-color: #008080; font-weight: bold\">5</span>   <span style=\"color: #008080; text-decoration-color: #008080; font-weight: bold\">6</span>   <span style=\"color: #008080; text-decoration-color: #008080; font-weight: bold\">7</span>\n",
       "\n",
       "</pre>\n"
      ],
      "text/plain": [
       "\n",
       "   |   | \u001b[31mO\u001b[0m | \u001b[32mX\u001b[0m |   |   |  \n",
       "---|---|---|---|---|---|---\n",
       "   | \u001b[31mO\u001b[0m | \u001b[32mX\u001b[0m | \u001b[31mO\u001b[0m |   | \u001b[31mO\u001b[0m | \u001b[32mX\u001b[0m\n",
       "---|---|---|---|---|---|---\n",
       "   | \u001b[31mO\u001b[0m | \u001b[31mO\u001b[0m | \u001b[31mO\u001b[0m |   | \u001b[32mX\u001b[0m | \u001b[31mO\u001b[0m\n",
       "---|---|---|---|---|---|---\n",
       "   | \u001b[32mX\u001b[0m | \u001b[31mO\u001b[0m | \u001b[32mX\u001b[0m |   | \u001b[31mO\u001b[0m | \u001b[32mX\u001b[0m\n",
       "---|---|---|---|---|---|---\n",
       " \u001b[31mO\u001b[0m | \u001b[31mO\u001b[0m | \u001b[32mX\u001b[0m | \u001b[32mX\u001b[0m |   | \u001b[31mO\u001b[0m | \u001b[32mX\u001b[0m\n",
       "---|---|---|---|---|---|---\n",
       " \u001b[32mX\u001b[0m | \u001b[32mX\u001b[0m | \u001b[31mO\u001b[0m | \u001b[32mX\u001b[0m | \u001b[32mX\u001b[0m | \u001b[31mO\u001b[0m | \u001b[32mX\u001b[0m\n",
       "---|---|---|---|---|---|---\n",
       " \u001b[1;36m1\u001b[0m   \u001b[1;36m2\u001b[0m   \u001b[1;36m3\u001b[0m   \u001b[1;36m4\u001b[0m   \u001b[1;36m5\u001b[0m   \u001b[1;36m6\u001b[0m   \u001b[1;36m7\u001b[0m\n",
       "\n"
      ]
     },
     "metadata": {},
     "output_type": "display_data"
    },
    {
     "data": {
      "text/html": [
       "<pre style=\"white-space:pre;overflow-x:auto;line-height:normal;font-family:Menlo,'DejaVu Sans Mono',consolas,'Courier New',monospace\">\n",
       "   |   | <span style=\"color: #800000; text-decoration-color: #800000\">O</span> | <span style=\"color: #008000; text-decoration-color: #008000\">X</span> |   |   |  \n",
       "---|---|---|---|---|---|---\n",
       "   | <span style=\"color: #800000; text-decoration-color: #800000\">O</span> | <span style=\"color: #008000; text-decoration-color: #008000\">X</span> | <span style=\"color: #800000; text-decoration-color: #800000\">O</span> |   | <span style=\"color: #800000; text-decoration-color: #800000\">O</span> | <span style=\"color: #008000; text-decoration-color: #008000\">X</span>\n",
       "---|---|---|---|---|---|---\n",
       "   | <span style=\"color: #800000; text-decoration-color: #800000\">O</span> | <span style=\"color: #800000; text-decoration-color: #800000\">O</span> | <span style=\"color: #800000; text-decoration-color: #800000\">O</span> |   | <span style=\"color: #008000; text-decoration-color: #008000\">X</span> | <span style=\"color: #800000; text-decoration-color: #800000\">O</span>\n",
       "---|---|---|---|---|---|---\n",
       "   | <span style=\"color: #008000; text-decoration-color: #008000\">X</span> | <span style=\"color: #800000; text-decoration-color: #800000\">O</span> | <span style=\"color: #008000; text-decoration-color: #008000\">X</span> |   | <span style=\"color: #800000; text-decoration-color: #800000\">O</span> | <span style=\"color: #008000; text-decoration-color: #008000\">X</span>\n",
       "---|---|---|---|---|---|---\n",
       " <span style=\"color: #800000; text-decoration-color: #800000\">O</span> | <span style=\"color: #800000; text-decoration-color: #800000\">O</span> | <span style=\"color: #008000; text-decoration-color: #008000\">X</span> | <span style=\"color: #008000; text-decoration-color: #008000\">X</span> | <span style=\"color: #008000; text-decoration-color: #008000\">X</span> | <span style=\"color: #800000; text-decoration-color: #800000\">O</span> | <span style=\"color: #008000; text-decoration-color: #008000\">X</span>\n",
       "---|---|---|---|---|---|---\n",
       " <span style=\"color: #008000; text-decoration-color: #008000\">X</span> | <span style=\"color: #008000; text-decoration-color: #008000\">X</span> | <span style=\"color: #800000; text-decoration-color: #800000\">O</span> | <span style=\"color: #008000; text-decoration-color: #008000\">X</span> | <span style=\"color: #008000; text-decoration-color: #008000\">X</span> | <span style=\"color: #800000; text-decoration-color: #800000\">O</span> | <span style=\"color: #008000; text-decoration-color: #008000\">X</span>\n",
       "---|---|---|---|---|---|---\n",
       " <span style=\"color: #008080; text-decoration-color: #008080; font-weight: bold\">1</span>   <span style=\"color: #008080; text-decoration-color: #008080; font-weight: bold\">2</span>   <span style=\"color: #008080; text-decoration-color: #008080; font-weight: bold\">3</span>   <span style=\"color: #008080; text-decoration-color: #008080; font-weight: bold\">4</span>   <span style=\"color: #008080; text-decoration-color: #008080; font-weight: bold\">5</span>   <span style=\"color: #008080; text-decoration-color: #008080; font-weight: bold\">6</span>   <span style=\"color: #008080; text-decoration-color: #008080; font-weight: bold\">7</span>\n",
       "\n",
       "</pre>\n"
      ],
      "text/plain": [
       "\n",
       "   |   | \u001b[31mO\u001b[0m | \u001b[32mX\u001b[0m |   |   |  \n",
       "---|---|---|---|---|---|---\n",
       "   | \u001b[31mO\u001b[0m | \u001b[32mX\u001b[0m | \u001b[31mO\u001b[0m |   | \u001b[31mO\u001b[0m | \u001b[32mX\u001b[0m\n",
       "---|---|---|---|---|---|---\n",
       "   | \u001b[31mO\u001b[0m | \u001b[31mO\u001b[0m | \u001b[31mO\u001b[0m |   | \u001b[32mX\u001b[0m | \u001b[31mO\u001b[0m\n",
       "---|---|---|---|---|---|---\n",
       "   | \u001b[32mX\u001b[0m | \u001b[31mO\u001b[0m | \u001b[32mX\u001b[0m |   | \u001b[31mO\u001b[0m | \u001b[32mX\u001b[0m\n",
       "---|---|---|---|---|---|---\n",
       " \u001b[31mO\u001b[0m | \u001b[31mO\u001b[0m | \u001b[32mX\u001b[0m | \u001b[32mX\u001b[0m | \u001b[32mX\u001b[0m | \u001b[31mO\u001b[0m | \u001b[32mX\u001b[0m\n",
       "---|---|---|---|---|---|---\n",
       " \u001b[32mX\u001b[0m | \u001b[32mX\u001b[0m | \u001b[31mO\u001b[0m | \u001b[32mX\u001b[0m | \u001b[32mX\u001b[0m | \u001b[31mO\u001b[0m | \u001b[32mX\u001b[0m\n",
       "---|---|---|---|---|---|---\n",
       " \u001b[1;36m1\u001b[0m   \u001b[1;36m2\u001b[0m   \u001b[1;36m3\u001b[0m   \u001b[1;36m4\u001b[0m   \u001b[1;36m5\u001b[0m   \u001b[1;36m6\u001b[0m   \u001b[1;36m7\u001b[0m\n",
       "\n"
      ]
     },
     "metadata": {},
     "output_type": "display_data"
    },
    {
     "data": {
      "text/html": [
       "<pre style=\"white-space:pre;overflow-x:auto;line-height:normal;font-family:Menlo,'DejaVu Sans Mono',consolas,'Courier New',monospace\">\n",
       "   |   | <span style=\"color: #800000; text-decoration-color: #800000\">O</span> | <span style=\"color: #008000; text-decoration-color: #008000\">X</span> |   |   |  \n",
       "---|---|---|---|---|---|---\n",
       "   | <span style=\"color: #800000; text-decoration-color: #800000\">O</span> | <span style=\"color: #008000; text-decoration-color: #008000\">X</span> | <span style=\"color: #800000; text-decoration-color: #800000\">O</span> |   | <span style=\"color: #800000; text-decoration-color: #800000\">O</span> | <span style=\"color: #008000; text-decoration-color: #008000\">X</span>\n",
       "---|---|---|---|---|---|---\n",
       "   | <span style=\"color: #800000; text-decoration-color: #800000\">O</span> | <span style=\"color: #800000; text-decoration-color: #800000\">O</span> | <span style=\"color: #800000; text-decoration-color: #800000\">O</span> |   | <span style=\"color: #008000; text-decoration-color: #008000\">X</span> | <span style=\"color: #800000; text-decoration-color: #800000\">O</span>\n",
       "---|---|---|---|---|---|---\n",
       "   | <span style=\"color: #008000; text-decoration-color: #008000\">X</span> | <span style=\"color: #800000; text-decoration-color: #800000\">O</span> | <span style=\"color: #008000; text-decoration-color: #008000\">X</span> | <span style=\"color: #800000; text-decoration-color: #800000\">O</span> | <span style=\"color: #800000; text-decoration-color: #800000\">O</span> | <span style=\"color: #008000; text-decoration-color: #008000\">X</span>\n",
       "---|---|---|---|---|---|---\n",
       " <span style=\"color: #800000; text-decoration-color: #800000\">O</span> | <span style=\"color: #800000; text-decoration-color: #800000\">O</span> | <span style=\"color: #008000; text-decoration-color: #008000\">X</span> | <span style=\"color: #008000; text-decoration-color: #008000\">X</span> | <span style=\"color: #008000; text-decoration-color: #008000\">X</span> | <span style=\"color: #800000; text-decoration-color: #800000\">O</span> | <span style=\"color: #008000; text-decoration-color: #008000\">X</span>\n",
       "---|---|---|---|---|---|---\n",
       " <span style=\"color: #008000; text-decoration-color: #008000\">X</span> | <span style=\"color: #008000; text-decoration-color: #008000\">X</span> | <span style=\"color: #800000; text-decoration-color: #800000\">O</span> | <span style=\"color: #008000; text-decoration-color: #008000\">X</span> | <span style=\"color: #008000; text-decoration-color: #008000\">X</span> | <span style=\"color: #800000; text-decoration-color: #800000\">O</span> | <span style=\"color: #008000; text-decoration-color: #008000\">X</span>\n",
       "---|---|---|---|---|---|---\n",
       " <span style=\"color: #008080; text-decoration-color: #008080; font-weight: bold\">1</span>   <span style=\"color: #008080; text-decoration-color: #008080; font-weight: bold\">2</span>   <span style=\"color: #008080; text-decoration-color: #008080; font-weight: bold\">3</span>   <span style=\"color: #008080; text-decoration-color: #008080; font-weight: bold\">4</span>   <span style=\"color: #008080; text-decoration-color: #008080; font-weight: bold\">5</span>   <span style=\"color: #008080; text-decoration-color: #008080; font-weight: bold\">6</span>   <span style=\"color: #008080; text-decoration-color: #008080; font-weight: bold\">7</span>\n",
       "\n",
       "</pre>\n"
      ],
      "text/plain": [
       "\n",
       "   |   | \u001b[31mO\u001b[0m | \u001b[32mX\u001b[0m |   |   |  \n",
       "---|---|---|---|---|---|---\n",
       "   | \u001b[31mO\u001b[0m | \u001b[32mX\u001b[0m | \u001b[31mO\u001b[0m |   | \u001b[31mO\u001b[0m | \u001b[32mX\u001b[0m\n",
       "---|---|---|---|---|---|---\n",
       "   | \u001b[31mO\u001b[0m | \u001b[31mO\u001b[0m | \u001b[31mO\u001b[0m |   | \u001b[32mX\u001b[0m | \u001b[31mO\u001b[0m\n",
       "---|---|---|---|---|---|---\n",
       "   | \u001b[32mX\u001b[0m | \u001b[31mO\u001b[0m | \u001b[32mX\u001b[0m | \u001b[31mO\u001b[0m | \u001b[31mO\u001b[0m | \u001b[32mX\u001b[0m\n",
       "---|---|---|---|---|---|---\n",
       " \u001b[31mO\u001b[0m | \u001b[31mO\u001b[0m | \u001b[32mX\u001b[0m | \u001b[32mX\u001b[0m | \u001b[32mX\u001b[0m | \u001b[31mO\u001b[0m | \u001b[32mX\u001b[0m\n",
       "---|---|---|---|---|---|---\n",
       " \u001b[32mX\u001b[0m | \u001b[32mX\u001b[0m | \u001b[31mO\u001b[0m | \u001b[32mX\u001b[0m | \u001b[32mX\u001b[0m | \u001b[31mO\u001b[0m | \u001b[32mX\u001b[0m\n",
       "---|---|---|---|---|---|---\n",
       " \u001b[1;36m1\u001b[0m   \u001b[1;36m2\u001b[0m   \u001b[1;36m3\u001b[0m   \u001b[1;36m4\u001b[0m   \u001b[1;36m5\u001b[0m   \u001b[1;36m6\u001b[0m   \u001b[1;36m7\u001b[0m\n",
       "\n"
      ]
     },
     "metadata": {},
     "output_type": "display_data"
    },
    {
     "data": {
      "text/html": [
       "<pre style=\"white-space:pre;overflow-x:auto;line-height:normal;font-family:Menlo,'DejaVu Sans Mono',consolas,'Courier New',monospace\">\n",
       "   |   | <span style=\"color: #800000; text-decoration-color: #800000\">O</span> | <span style=\"color: #008000; text-decoration-color: #008000\">X</span> |   |   |  \n",
       "---|---|---|---|---|---|---\n",
       "   | <span style=\"color: #800000; text-decoration-color: #800000\">O</span> | <span style=\"color: #008000; text-decoration-color: #008000\">X</span> | <span style=\"color: #800000; text-decoration-color: #800000\">O</span> |   | <span style=\"color: #800000; text-decoration-color: #800000\">O</span> | <span style=\"color: #008000; text-decoration-color: #008000\">X</span>\n",
       "---|---|---|---|---|---|---\n",
       "   | <span style=\"color: #800000; text-decoration-color: #800000\">O</span> | <span style=\"color: #800000; text-decoration-color: #800000\">O</span> | <span style=\"color: #800000; text-decoration-color: #800000\">O</span> | <span style=\"color: #008000; text-decoration-color: #008000\">X</span> | <span style=\"color: #008000; text-decoration-color: #008000\">X</span> | <span style=\"color: #800000; text-decoration-color: #800000\">O</span>\n",
       "---|---|---|---|---|---|---\n",
       "   | <span style=\"color: #008000; text-decoration-color: #008000\">X</span> | <span style=\"color: #800000; text-decoration-color: #800000\">O</span> | <span style=\"color: #008000; text-decoration-color: #008000\">X</span> | <span style=\"color: #800000; text-decoration-color: #800000\">O</span> | <span style=\"color: #800000; text-decoration-color: #800000\">O</span> | <span style=\"color: #008000; text-decoration-color: #008000\">X</span>\n",
       "---|---|---|---|---|---|---\n",
       " <span style=\"color: #800000; text-decoration-color: #800000\">O</span> | <span style=\"color: #800000; text-decoration-color: #800000\">O</span> | <span style=\"color: #008000; text-decoration-color: #008000\">X</span> | <span style=\"color: #008000; text-decoration-color: #008000\">X</span> | <span style=\"color: #008000; text-decoration-color: #008000\">X</span> | <span style=\"color: #800000; text-decoration-color: #800000\">O</span> | <span style=\"color: #008000; text-decoration-color: #008000\">X</span>\n",
       "---|---|---|---|---|---|---\n",
       " <span style=\"color: #008000; text-decoration-color: #008000\">X</span> | <span style=\"color: #008000; text-decoration-color: #008000\">X</span> | <span style=\"color: #800000; text-decoration-color: #800000\">O</span> | <span style=\"color: #008000; text-decoration-color: #008000\">X</span> | <span style=\"color: #008000; text-decoration-color: #008000\">X</span> | <span style=\"color: #800000; text-decoration-color: #800000\">O</span> | <span style=\"color: #008000; text-decoration-color: #008000\">X</span>\n",
       "---|---|---|---|---|---|---\n",
       " <span style=\"color: #008080; text-decoration-color: #008080; font-weight: bold\">1</span>   <span style=\"color: #008080; text-decoration-color: #008080; font-weight: bold\">2</span>   <span style=\"color: #008080; text-decoration-color: #008080; font-weight: bold\">3</span>   <span style=\"color: #008080; text-decoration-color: #008080; font-weight: bold\">4</span>   <span style=\"color: #008080; text-decoration-color: #008080; font-weight: bold\">5</span>   <span style=\"color: #008080; text-decoration-color: #008080; font-weight: bold\">6</span>   <span style=\"color: #008080; text-decoration-color: #008080; font-weight: bold\">7</span>\n",
       "\n",
       "</pre>\n"
      ],
      "text/plain": [
       "\n",
       "   |   | \u001b[31mO\u001b[0m | \u001b[32mX\u001b[0m |   |   |  \n",
       "---|---|---|---|---|---|---\n",
       "   | \u001b[31mO\u001b[0m | \u001b[32mX\u001b[0m | \u001b[31mO\u001b[0m |   | \u001b[31mO\u001b[0m | \u001b[32mX\u001b[0m\n",
       "---|---|---|---|---|---|---\n",
       "   | \u001b[31mO\u001b[0m | \u001b[31mO\u001b[0m | \u001b[31mO\u001b[0m | \u001b[32mX\u001b[0m | \u001b[32mX\u001b[0m | \u001b[31mO\u001b[0m\n",
       "---|---|---|---|---|---|---\n",
       "   | \u001b[32mX\u001b[0m | \u001b[31mO\u001b[0m | \u001b[32mX\u001b[0m | \u001b[31mO\u001b[0m | \u001b[31mO\u001b[0m | \u001b[32mX\u001b[0m\n",
       "---|---|---|---|---|---|---\n",
       " \u001b[31mO\u001b[0m | \u001b[31mO\u001b[0m | \u001b[32mX\u001b[0m | \u001b[32mX\u001b[0m | \u001b[32mX\u001b[0m | \u001b[31mO\u001b[0m | \u001b[32mX\u001b[0m\n",
       "---|---|---|---|---|---|---\n",
       " \u001b[32mX\u001b[0m | \u001b[32mX\u001b[0m | \u001b[31mO\u001b[0m | \u001b[32mX\u001b[0m | \u001b[32mX\u001b[0m | \u001b[31mO\u001b[0m | \u001b[32mX\u001b[0m\n",
       "---|---|---|---|---|---|---\n",
       " \u001b[1;36m1\u001b[0m   \u001b[1;36m2\u001b[0m   \u001b[1;36m3\u001b[0m   \u001b[1;36m4\u001b[0m   \u001b[1;36m5\u001b[0m   \u001b[1;36m6\u001b[0m   \u001b[1;36m7\u001b[0m\n",
       "\n"
      ]
     },
     "metadata": {},
     "output_type": "display_data"
    },
    {
     "data": {
      "text/html": [
       "<pre style=\"white-space:pre;overflow-x:auto;line-height:normal;font-family:Menlo,'DejaVu Sans Mono',consolas,'Courier New',monospace\">Winner: <span style=\"color: #008000; text-decoration-color: #008000\">X</span>\n",
       "</pre>\n"
      ],
      "text/plain": [
       "Winner: \u001b[32mX\u001b[0m\n"
      ]
     },
     "metadata": {},
     "output_type": "display_data"
    }
   ],
   "source": [
    "player_1_ai = True\n",
    "player_2_ai = True\n",
    "\n",
    "key = jax.random.PRNGKey(0)\n",
    "env = env_reset(0)\n",
    "print_board(env.board)\n",
    "while True:\n",
    "    if player_1_ai:\n",
    "        action = run_mcts(key, env, 1000).action_weights.argmax().item()\n",
    "    else:\n",
    "        action = int(input()) - 1\n",
    "\n",
    "    env, reward, done = env_step(env, action)\n",
    "    print_board(env.board)\n",
    "    if done: break\n",
    "\n",
    "    if player_2_ai:\n",
    "        action = run_mcts(key, env, 1000).action_weights.argmax().item()\n",
    "    else:\n",
    "        action = int(input()) - 1\n",
    "\n",
    "    env, reward, done = env_step(env, action)\n",
    "    print_board(env.board)\n",
    "    if done: break\n",
    "\n",
    "players = {\n",
    "    1: \"[green]X[/green]\",\n",
    "    -1: \"[red]O[/red]\",\n",
    "}\n",
    "print(f\"Winner: {players[env.player.item()]}\")"
   ]
  }
 ],
 "metadata": {
  "kernelspec": {
   "display_name": "mctx-classic",
   "language": "python",
   "name": "python3"
  },
  "language_info": {
   "codemirror_mode": {
    "name": "ipython",
    "version": 3
   },
   "file_extension": ".py",
   "mimetype": "text/x-python",
   "name": "python",
   "nbconvert_exporter": "python",
   "pygments_lexer": "ipython3",
   "version": "3.10.11"
  },
  "orig_nbformat": 4
 },
 "nbformat": 4,
 "nbformat_minor": 2
}
